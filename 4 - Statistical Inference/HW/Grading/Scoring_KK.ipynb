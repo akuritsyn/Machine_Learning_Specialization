{
 "cells": [
  {
   "cell_type": "code",
   "execution_count": 1,
   "metadata": {
    "collapsed": false,
    "scrolled": true
   },
   "outputs": [
    {
     "name": "stdout",
     "output_type": "stream",
     "text": [
      "Populating the interactive namespace from numpy and matplotlib\n"
     ]
    }
   ],
   "source": [
    "from statsmodels.stats.proportion import proportion_confint\n",
    "from scipy import stats\n",
    "import math\n",
    "import pandas as pd\n",
    "%pylab inline"
   ]
  },
  {
   "cell_type": "code",
   "execution_count": 2,
   "metadata": {
    "collapsed": true
   },
   "outputs": [],
   "source": [
    "data = pd.read_csv('C:/credit_card_default_analysis.csv')"
   ]
  },
  {
   "cell_type": "markdown",
   "metadata": {},
   "source": [
    "# 1."
   ]
  },
  {
   "cell_type": "code",
   "execution_count": 3,
   "metadata": {
    "collapsed": false
   },
   "outputs": [
    {
     "data": {
      "image/png": "[encoded data removed]",
      "text/plain": [
       "<matplotlib.figure.Figure at 0x255cfe4f278>"
      ]
     },
     "metadata": {},
     "output_type": "display_data"
    }
   ],
   "source": [
    "# выделим переменные для рассматриваемых данных\n",
    "\n",
    "default0 = data[data.default==0].LIMIT_BAL.values\n",
    "default1 = data[data.default==1].LIMIT_BAL.values\n",
    "\n",
    "# смотрим на распределения: среднее значение по первой группе, очевидно, больше\n",
    "\n",
    "_, ax = plt.subplots(1, 2, figsize=(13,5))\n",
    "\n",
    "ax[0].hist(default0, bins=30)\n",
    "ax[0].grid(), ax[0].set_title('Вернули кредит')\n",
    "ax[0].set_xlabel('Кредитные лимиты')\n",
    "\n",
    "ax[1].hist(default1, bins=30)\n",
    "ax[1].grid(), ax[1].set_title('Не вернули кредит')\n",
    "ax[1].set_xlabel('Кредитные лимиты')\n",
    "\n",
    "plt.show()"
   ]
  },
  {
   "cell_type": "markdown",
   "metadata": {},
   "source": [
    "## 1.a"
   ]
  },
  {
   "cell_type": "markdown",
   "metadata": {},
   "source": [
    "$H_0: med(X_1) = med(X_2)$\n",
    "\n",
    "$H_1: med(X_1) \\neq med(X_2)$\n",
    "\n",
    "Проверим с помощью доверительных интервалов на бутстрапированных выборках"
   ]
  },
  {
   "cell_type": "code",
   "execution_count": 4,
   "metadata": {
    "collapsed": true
   },
   "outputs": [],
   "source": [
    "# введем вспомогательные функции для оценки интервалов медиан методом бутстрапа \n",
    "\n",
    "def get_bootstrap_samples(data, n_samples):\n",
    "    indices = np.random.randint(0, len(data)-1, (n_samples,len(data)))\n",
    "    return data[indices]\n",
    "\n",
    "def bootstrap_confint(data, alpha):\n",
    "    return np.percentile(data, [100*(alpha/2),100*(1-alpha/2)])"
   ]
  },
  {
   "cell_type": "code",
   "execution_count": 5,
   "metadata": {
    "collapsed": false
   },
   "outputs": [],
   "source": [
    "# получим по 1000 бутстрапированных выборок для каждой из групп заемщиков\n",
    "\n",
    "default0_bs = get_bootstrap_samples(default0, 1000)\n",
    "default1_bs = get_bootstrap_samples(default1, 1000)"
   ]
  },
  {
   "cell_type": "code",
   "execution_count": 6,
   "metadata": {
    "collapsed": true
   },
   "outputs": [],
   "source": [
    "# посчитаем медианы по каждой из выборок\n",
    "\n",
    "default0_med = list(map(np.median, default0_bs))\n",
    "default1_med = list(map(np.median, default1_bs))"
   ]
  },
  {
   "cell_type": "code",
   "execution_count": 7,
   "metadata": {
    "collapsed": false,
    "scrolled": true
   },
   "outputs": [
    {
     "name": "stdout",
     "output_type": "stream",
     "text": [
      "95%-ый доверительный интервал для медиан кредитного лимита: \n",
      " по вернувшим кредит:  [ 150000.  150000.] \n",
      " по не вернувшим кредит:  [ 80000.  90000.] \n",
      "\n",
      "Нулевая гипотеза о равенстве медиан отвергается против двусторонней альтернативы на уровне значимости 0.05\n"
     ]
    }
   ],
   "source": [
    "# Ответ 1.a\n",
    "\n",
    "print('95%-ый доверительный интервал для медиан кредитного лимита:',\n",
    "      '\\n по вернувшим кредит: ', bootstrap_confint(default0_med, 0.05),\n",
    "      '\\n по не вернувшим кредит: ', bootstrap_confint(default1_med, 0.05),\n",
    "     '\\n\\nНулевая гипотеза о равенстве медиан отвергается против двусторонней альтернативы на уровне значимости 0.05')"
   ]
  },
  {
   "cell_type": "markdown",
   "metadata": {},
   "source": [
    "## 1.b"
   ]
  },
  {
   "cell_type": "markdown",
   "metadata": {},
   "source": [
    "$H_0: F_{X_1}(x) = F_{X_2}(x)$\n",
    "\n",
    "$H_1: F_{X_1}(x) = F_{X_2}(x + \\Delta), \\Delta\\neq 0$\n",
    "\n",
    "Проверим с помощью перестановочного критерия"
   ]
  },
  {
   "cell_type": "code",
   "execution_count": 8,
   "metadata": {
    "collapsed": true
   },
   "outputs": [],
   "source": [
    "# введем вспомогательные функции для перестановочного критерия\n",
    "\n",
    "def permutation_t_stat_ind(sample1, sample2):\n",
    "    return np.mean(sample1) - np.mean(sample2)\n",
    "\n",
    "def get_random_combinations(n1, n2, max_combinations):\n",
    "    index = list(range(n1 + n2))\n",
    "    indices = set([tuple(index)])\n",
    "    for i in range(max_combinations - 1):\n",
    "        np.random.shuffle(index)\n",
    "        indices.add(tuple(index))\n",
    "    return [(index[:n1], index[n1:]) for index in indices]\n",
    "\n",
    "def permutation_zero_dist_ind(sample1, sample2, max_combinations = None):\n",
    "    joined_sample = np.hstack((sample1, sample2))\n",
    "    n1 = len(sample1)\n",
    "    n = len(joined_sample)\n",
    "    \n",
    "    if max_combinations:\n",
    "        indices = get_random_combinations(n1, len(sample2), max_combinations)\n",
    "    else:\n",
    "        indices = [(list(index), filter(lambda i: i not in index, range(n))) \\\n",
    "                    for index in itertools.combinations(range(n), n1)]\n",
    "    \n",
    "    distr = [joined_sample[list(i[0])].mean() - joined_sample[list(i[1])].mean() \\\n",
    "             for i in indices]\n",
    "    return distr\n",
    "\n",
    "def permutation_test(sample1, sample2, max_combinations = None, alternative = 'two-sided'):\n",
    "    if alternative not in ('two-sided', 'less', 'greater'):\n",
    "        raise ValueError(\"alternative not recognized\\n\"\n",
    "                         \"should be 'two-sided', 'less' or 'greater'\")\n",
    "    \n",
    "    t_stat = permutation_t_stat_ind(sample1, sample2)\n",
    "    \n",
    "    zero_distr = permutation_zero_dist_ind(sample1, sample2, max_combinations)\n",
    "    \n",
    "    if alternative == 'two-sided':\n",
    "        return sum([1. if abs(x) >= abs(t_stat) else 0. for x in zero_distr]) / len(zero_distr)\n",
    "    \n",
    "    if alternative == 'less':\n",
    "        return sum([1. if x <= t_stat else 0. for x in zero_distr]) / len(zero_distr)\n",
    "\n",
    "    if alternative == 'greater':\n",
    "        return sum([1. if x >= t_stat else 0. for x in zero_distr]) / len(zero_distr)"
   ]
  },
  {
   "cell_type": "code",
   "execution_count": 9,
   "metadata": {
    "collapsed": false
   },
   "outputs": [
    {
     "name": "stdout",
     "output_type": "stream",
     "text": [
      "p-value:  0.001 \n",
      "Нулевая гипотеза о равенстве распределений отвергается на уровне значимости 0.05 \n",
      "Практический эффект признается значимым, т.к. медианы двух подвыборок отличаются в  1.7  раз\n"
     ]
    }
   ],
   "source": [
    "# Ответ 1.b\n",
    "\n",
    "print('p-value: ', permutation_test(default0, default1, 1000),\n",
    "     '\\nНулевая гипотеза о равенстве распределений отвергается на уровне значимости 0.05',\n",
    "     '\\nПрактический эффект признается значимым, т.к. медианы двух подвыборок отличаются в ',\n",
    "      round(np.median(default0)/np.median(default1), 1), ' раз')"
   ]
  },
  {
   "cell_type": "markdown",
   "metadata": {
    "collapsed": true
   },
   "source": [
    "# 2."
   ]
  },
  {
   "cell_type": "markdown",
   "metadata": {},
   "source": [
    "$H_0: \\hat{p_1}\\ =  \\hat{p_2}\\ $\n",
    "\n",
    "$H_1: \\hat{p_1}\\ \\neq  \\hat{p_2}\\ $\n",
    "\n",
    "Проверим с помощью доверительных интервалов и двувыборочного z-критерия для долей независимых выборок"
   ]
  },
  {
   "cell_type": "code",
   "execution_count": 10,
   "metadata": {
    "collapsed": false,
    "scrolled": false
   },
   "outputs": [
    {
     "data": {
      "image/png": "[encoded data removed]",
      "text/plain": [
       "<matplotlib.figure.Figure at 0x255d3b6a9b0>"
      ]
     },
     "metadata": {},
     "output_type": "display_data"
    }
   ],
   "source": [
    "# посмотрим на распределения мужчин(1) и женщин(2) в каждой из подвыборок\n",
    "\n",
    "data.hist('SEX', 'default', True, figsize=(13,5))\n",
    "\n",
    "plt.subplot(121).set_title('Вернули кредит')\n",
    "plt.xticks([1,2], ['Мужчины','Женщины'], rotation=0, size=12)\n",
    "\n",
    "plt.subplot(122).set_title('Не вернули кредит')\n",
    "plt.xticks([1,2], ['Мужчины','Женщины'], rotation=0, size=12)\n",
    "\n",
    "plt.show()"
   ]
  },
  {
   "cell_type": "code",
   "execution_count": 11,
   "metadata": {
    "collapsed": false,
    "scrolled": true
   },
   "outputs": [],
   "source": [
    "# приведем бинарные случайные величины в соответствие с дальнейшим анализом (0 - женщины, 1 - мужчины)\n",
    "\n",
    "default0_sex = data[data.default==0].SEX.apply(lambda x: 0 if x==2 else 1).values\n",
    "default1_sex = data[data.default==1].SEX.apply(lambda x: 0 if x==2 else 1).values"
   ]
  },
  {
   "cell_type": "code",
   "execution_count": 12,
   "metadata": {
    "collapsed": false,
    "scrolled": true
   },
   "outputs": [
    {
     "data": {
      "text/plain": [
       "(0.38585002568053417, 0.43294153104279687)"
      ]
     },
     "execution_count": 12,
     "metadata": {},
     "output_type": "execute_result"
    }
   ],
   "source": [
    "default0_sex.mean(), default1_sex.mean()\n",
    "\n",
    "# средние отстоят от 0.5, поэтому для подсчета интервалов будем использовать метод Уилсона"
   ]
  },
  {
   "cell_type": "code",
   "execution_count": 13,
   "metadata": {
    "collapsed": false
   },
   "outputs": [
    {
     "name": "stdout",
     "output_type": "stream",
     "text": [
      "Доверительный интервал для средней доли мужчин в подвыборке не вернувших кредит - [0.42106241803493399, 0.44489823697171821] \n",
      " - лежит полностью правее доверительного интервала в подвыборке вернувших кредит - [0.37962731580892511, 0.39211026596987603]\n"
     ]
    }
   ],
   "source": [
    "print('Доверительный интервал для средней доли мужчин в подвыборке не вернувших кредит -', list(proportion_confint(sum(default1_sex), len(default1_sex), method='wilson')),\n",
    "     '\\n - лежит полностью правее доверительного интервала в подвыборке вернувших кредит -', list(proportion_confint(sum(default0_sex), len(default0_sex), method='wilson')))"
   ]
  },
  {
   "cell_type": "code",
   "execution_count": 14,
   "metadata": {
    "collapsed": false
   },
   "outputs": [
    {
     "data": {
      "text/plain": [
       "{'pval': 4.4728665216098307e-12, 'z-stat': -6.9213750885628968}"
      ]
     },
     "execution_count": 14,
     "metadata": {},
     "output_type": "execute_result"
    }
   ],
   "source": [
    "# проверим гипотезу о том, что средние доли мужчин в обеих подвыборках равны\n",
    "\n",
    "def proportion_2samp_ind(sample1, sample2):\n",
    "    p1 = sample1.mean()\n",
    "    p2 = sample2.mean()\n",
    "    n1 = len(sample1)\n",
    "    n2 = len(sample2)\n",
    "    P = (p1*n1 + p2*n2)/(n1 + n2)\n",
    "    z = (p1 - p2)/math.sqrt(P*(1-P)*(1/n1 + 1/n2))\n",
    "    pval = 2*(1 - stats.norm.cdf(abs(z)))\n",
    "    return {'z-stat': z, 'pval': pval}\n",
    "\n",
    "proportion_2samp_ind(default0_sex, default1_sex)"
   ]
  },
  {
   "cell_type": "code",
   "execution_count": 15,
   "metadata": {
    "collapsed": false
   },
   "outputs": [
    {
     "name": "stdout",
     "output_type": "stream",
     "text": [
      "Нулевая гипотеза о равенстве средних долей мужчин среди вернувших и не вернувших кредит отвергается в пользу \n",
      "двусторонней альтернативы на уровне значимости 0.05 с p-value = 4.47286652161e-12\n"
     ]
    }
   ],
   "source": [
    "# Ответ 2.\n",
    "\n",
    "print('Нулевая гипотеза о равенстве средних долей мужчин среди вернувших и не вернувших кредит отвергается в пользу',\n",
    "      '\\nдвусторонней альтернативы на уровне значимости 0.05 с p-value =', proportion_2samp_ind(default0_sex, default1_sex)['pval'])"
   ]
  },
  {
   "cell_type": "markdown",
   "metadata": {},
   "source": [
    "# 3."
   ]
  },
  {
   "cell_type": "markdown",
   "metadata": {},
   "source": [
    "$H_0$: $X_1$ и $X_2$ независимы\n",
    "\n",
    "$H_1$: $H_0$ не верна\n",
    "\n",
    "Проверим с помощью критерия хи-квадрат"
   ]
  },
  {
   "cell_type": "code",
   "execution_count": 16,
   "metadata": {
    "collapsed": false,
    "scrolled": false
   },
   "outputs": [
    {
     "data": {
      "text/html": [
       "<div>\n",
       "<table border=\"1\" class=\"dataframe\">\n",
       "  <thead>\n",
       "    <tr style=\"text-align: right;\">\n",
       "      <th></th>\n",
       "      <th>default0</th>\n",
       "      <th>default1</th>\n",
       "    </tr>\n",
       "  </thead>\n",
       "  <tbody>\n",
       "    <tr>\n",
       "      <th>EDU_0</th>\n",
       "      <td>14</td>\n",
       "      <td>0</td>\n",
       "    </tr>\n",
       "    <tr>\n",
       "      <th>EDU_1</th>\n",
       "      <td>8549</td>\n",
       "      <td>2036</td>\n",
       "    </tr>\n",
       "    <tr>\n",
       "      <th>EDU_2</th>\n",
       "      <td>10700</td>\n",
       "      <td>3330</td>\n",
       "    </tr>\n",
       "    <tr>\n",
       "      <th>EDU_3</th>\n",
       "      <td>3680</td>\n",
       "      <td>1237</td>\n",
       "    </tr>\n",
       "    <tr>\n",
       "      <th>EDU_4</th>\n",
       "      <td>116</td>\n",
       "      <td>7</td>\n",
       "    </tr>\n",
       "    <tr>\n",
       "      <th>EDU_5</th>\n",
       "      <td>262</td>\n",
       "      <td>18</td>\n",
       "    </tr>\n",
       "    <tr>\n",
       "      <th>EDU_6</th>\n",
       "      <td>43</td>\n",
       "      <td>8</td>\n",
       "    </tr>\n",
       "  </tbody>\n",
       "</table>\n",
       "</div>"
      ],
      "text/plain": [
       "       default0  default1\n",
       "EDU_0        14         0\n",
       "EDU_1      8549      2036\n",
       "EDU_2     10700      3330\n",
       "EDU_3      3680      1237\n",
       "EDU_4       116         7\n",
       "EDU_5       262        18\n",
       "EDU_6        43         8"
      ]
     },
     "execution_count": 16,
     "metadata": {},
     "output_type": "execute_result"
    }
   ],
   "source": [
    "# по каждой категории образования посчитаем количество заемщиков, вернувших и не вернувших кредит\n",
    "\n",
    "edu_default0 = pd.get_dummies(data[data.default==0], columns=['EDUCATION'], prefix='EDU').loc[:,['EDU_0','EDU_1','EDU_2','EDU_3','EDU_4','EDU_5','EDU_6']].sum()\n",
    "edu_default1 = pd.get_dummies(data[data.default==1], columns=['EDUCATION'], prefix='EDU').loc[:,['EDU_0','EDU_1','EDU_2','EDU_3','EDU_4','EDU_5','EDU_6']].sum()\n",
    "edu_default_observed = pd.DataFrame({'default0': edu_default0, 'default1': edu_default1}, dtype=np.int)\n",
    "\n",
    "edu_default_observed"
   ]
  },
  {
   "cell_type": "code",
   "execution_count": 17,
   "metadata": {
    "collapsed": false
   },
   "outputs": [
    {
     "name": "stdout",
     "output_type": "stream",
     "text": [
      "p-value теста хи-квадрат = 1.23326262454e-32 - гипотеза о независимости уровня образования и возвращаемости кредита отвергается\n"
     ]
    }
   ],
   "source": [
    "# Ответ 3.1\n",
    "\n",
    "print('p-value теста хи-квадрат =', stats.chi2_contingency(edu_default_observed)[1],\n",
    "     '- гипотеза о независимости уровня образования и возвращаемости кредита отвергается')"
   ]
  },
  {
   "cell_type": "code",
   "execution_count": 18,
   "metadata": {
    "collapsed": false,
    "scrolled": true
   },
   "outputs": [
    {
     "data": {
      "text/plain": [
       "EDU_0    0.221200\n",
       "EDU_4    0.164289\n",
       "EDU_5    0.156914\n",
       "EDU_6    0.064337\n",
       "EDU_1    0.028852\n",
       "EDU_2   -0.016149\n",
       "EDU_3   -0.030376\n",
       "dtype: float64"
      ]
     },
     "execution_count": 18,
     "metadata": {},
     "output_type": "execute_result"
    }
   ],
   "source": [
    "# Чтобы показать разницу между наблюдаемыми и ожидаемыми количествами заемщиков в каждой ячейке, выведем значения\n",
    "# наблюдаемых и ожидаемых долей заемщиков, вернувших долг, по каждому уровню образования\n",
    "\n",
    "# наблюдаемые доли:\n",
    "observed_shares = edu_default_observed.apply(lambda x: x[0]/(x[0] + x[1]), 1)\n",
    "\n",
    "# ожидаемая доля (процент нулей в столбце 'default'):\n",
    "expected_share = 1 - data.default.mean()\n",
    "\n",
    "# разница (отсортированная по убыванию):\n",
    "diff = observed_shares - expected_share\n",
    "diff.sort_values(ascending=False)"
   ]
  },
  {
   "cell_type": "code",
   "execution_count": 19,
   "metadata": {
    "collapsed": false,
    "scrolled": true
   },
   "outputs": [
    {
     "name": "stdout",
     "output_type": "stream",
     "text": [
      "Наличие докторской степени (EDU_0) является наилучшим индикатором того, что человек отдаст долг \n",
      "Лучшим индикатором того, что человек не отдаст долг является наличие только школьного образование (EDU_3)\n"
     ]
    }
   ],
   "source": [
    "# Ответ 3.2\n",
    "\n",
    "print('Наличие докторской степени (EDU_0) является наилучшим индикатором того, что человек отдаст долг',\n",
    "     '\\nЛучшим индикатором того, что человек не отдаст долг является наличие только школьного образование (EDU_3)')"
   ]
  },
  {
   "cell_type": "markdown",
   "metadata": {},
   "source": [
    "# 4."
   ]
  },
  {
   "cell_type": "markdown",
   "metadata": {},
   "source": [
    "$H_0$: $X_1$ и $X_2$ независимы\n",
    "\n",
    "$H_1$: $H_0$ не верна\n",
    "\n",
    "Проверим с помощью коэф. корреляции Мэтьюса и критерия хи-квадрат"
   ]
  },
  {
   "cell_type": "code",
   "execution_count": 20,
   "metadata": {
    "collapsed": false
   },
   "outputs": [
    {
     "name": "stdout",
     "output_type": "stream",
     "text": [
      "В столбце MARRIAGE 2 значения признака (0 и 3) отнесем к категории NA и отбросим из рассмотрения, \n",
      "т.к. их доля на всей выборке составляет всего 0.01\n"
     ]
    }
   ],
   "source": [
    "print('В столбце MARRIAGE 2 значения признака (0 и 3) отнесем к категории NA и отбросим из рассмотрения,',\n",
    "      '\\nт.к. их доля на всей выборке составляет всего',\n",
    "      round(len(data[(data.MARRIAGE==0)|(data.MARRIAGE==3)])/len(data), 2))"
   ]
  },
  {
   "cell_type": "code",
   "execution_count": 21,
   "metadata": {
    "collapsed": false
   },
   "outputs": [],
   "source": [
    "# удалим объекты с NA\n",
    "\n",
    "data_new = data.drop(data[(data.MARRIAGE==0)|(data.MARRIAGE==3)].index)"
   ]
  },
  {
   "cell_type": "code",
   "execution_count": 22,
   "metadata": {
    "collapsed": false,
    "scrolled": false
   },
   "outputs": [
    {
     "data": {
      "image/png": "[encoded data removed]",
      "text/plain": [
       "<matplotlib.figure.Figure at 0x255d3dad6a0>"
      ]
     },
     "metadata": {},
     "output_type": "display_data"
    }
   ],
   "source": [
    "# посмотрим на распределения семейных положений в двух подвыборках\n",
    "\n",
    "data_new.hist('MARRIAGE', 'default', figsize=(13,5))\n",
    "plt.subplot(121).set_title('Вернули кредит')\n",
    "plt.xticks([1,2], ['в браке','не в браке'], rotation=0, size=12)\n",
    "\n",
    "plt.subplot(122).set_title('Не вернули кредит')\n",
    "plt.xticks([1,2], ['в браке','не в браке'], rotation=0, size=12)\n",
    "\n",
    "plt.show()"
   ]
  },
  {
   "cell_type": "code",
   "execution_count": 23,
   "metadata": {
    "collapsed": false,
    "scrolled": true
   },
   "outputs": [
    {
     "data": {
      "text/html": [
       "<div>\n",
       "<table border=\"1\" class=\"dataframe\">\n",
       "  <thead>\n",
       "    <tr style=\"text-align: right;\">\n",
       "      <th></th>\n",
       "      <th>не вернул</th>\n",
       "      <th>вернул</th>\n",
       "    </tr>\n",
       "  </thead>\n",
       "  <tbody>\n",
       "    <tr>\n",
       "      <th>холост</th>\n",
       "      <td>0.51031</td>\n",
       "      <td>0.547019</td>\n",
       "    </tr>\n",
       "    <tr>\n",
       "      <th>замужем/женат</th>\n",
       "      <td>0.48969</td>\n",
       "      <td>0.452981</td>\n",
       "    </tr>\n",
       "  </tbody>\n",
       "</table>\n",
       "</div>"
      ],
      "text/plain": [
       "               не вернул    вернул\n",
       "холост           0.51031  0.547019\n",
       "замужем/женат    0.48969  0.452981"
      ]
     },
     "execution_count": 23,
     "metadata": {},
     "output_type": "execute_result"
    }
   ],
   "source": [
    "# переименуем переменные в 'MARRIAGE' для удобства\n",
    "\n",
    "data['fixMAR'] = data.MARRIAGE.map({1:'замужем/женат', 2:'холост'})\n",
    "\n",
    "# посчитаем количество заемщиков на пересечении категорий 'MARRIAGE' и 'default'\n",
    "\n",
    "mar_default0 = pd.get_dummies(data[data.default==0], '', '', columns=['fixMAR']).iloc[:,-2:].sum()[::-1]\n",
    "mar_default1 = pd.get_dummies(data[data.default==1], '', '', columns=['fixMAR']).iloc[:,-2:].sum()[::-1]\n",
    "\n",
    "# выведем матрицу сопряженности с правильной расстановкой строк и столбцов\n",
    "\n",
    "mar_default_observed = pd.DataFrame({'не вернул': mar_default1, 'вернул': mar_default0},\n",
    "                                    columns=['не вернул', 'вернул'])\n",
    "mar_default_observed = mar_default_observed.apply(lambda x: x/sum(x))\n",
    "mar_default_observed"
   ]
  },
  {
   "cell_type": "code",
   "execution_count": 24,
   "metadata": {
    "collapsed": false
   },
   "outputs": [
    {
     "data": {
      "text/plain": [
       "-0.036768953323777047"
      ]
     },
     "execution_count": 24,
     "metadata": {},
     "output_type": "execute_result"
    }
   ],
   "source": [
    "# посчитаем значение корреляции Мэтьюса\n",
    "\n",
    "def mathews_cor(matrix):\n",
    "    a, b, c, d = matrix[0,0], matrix[0,1], matrix[1,0], matrix[1,1]\n",
    "    return (a*d - b*c)/math.sqrt((a+b)*(a+c)*(b+d)*(c+d))\n",
    "\n",
    "mathews_cor(mar_default_observed.values)"
   ]
  },
  {
   "cell_type": "code",
   "execution_count": 25,
   "metadata": {
    "collapsed": false
   },
   "outputs": [
    {
     "name": "stdout",
     "output_type": "stream",
     "text": [
      "Согласно коэффициенту Мэтьюса, семейное положение \"в браке\" демонстрирует незначительную отрицательную корреляцию с возвращаемостью кредита; \n",
      "Критерий хи-квадрат не отвергает независимость данных переменных с p-value = 0.172396381373\n"
     ]
    }
   ],
   "source": [
    "# Ответ\n",
    "\n",
    "print('Согласно коэффициенту Мэтьюса, семейное положение \"в браке\" демонстрирует незначительную отрицательную корреляцию с возвращаемостью кредита;',\n",
    "     '\\nКритерий хи-квадрат не отвергает независимость данных переменных с p-value =', stats.chi2_contingency(mar_default_observed)[1])"
   ]
  },
  {
   "cell_type": "markdown",
   "metadata": {},
   "source": [
    "# 5."
   ]
  },
  {
   "cell_type": "code",
   "execution_count": 26,
   "metadata": {
    "collapsed": false
   },
   "outputs": [
    {
     "data": {
      "image/png": "[encoded data removed]",
      "text/plain": [
       "<matplotlib.figure.Figure at 0x255d4fba630>"
      ]
     },
     "metadata": {},
     "output_type": "display_data"
    }
   ],
   "source": [
    "# посмотрим на возрастные распределения в каждой из подвыборок\n",
    "# единственное значимое отличие - среди не вернувших кредит большая доля вероятностной массы приходится на молодых людей 20-30 лет,\n",
    "# центральные меры (средняя, медиана, мода) визуально совпадают\n",
    "\n",
    "data.hist('AGE', 'default', True, figsize=(13,5), bins=20)\n",
    "\n",
    "plt.subplot(121).set_title('Вернули кредит'), plt.subplot(121).set_xlabel('Возраст')\n",
    "plt.xticks(rotation=0)\n",
    "\n",
    "plt.subplot(122).set_title('Не вернули кредит'), plt.subplot(122).set_xlabel('Возраст')\n",
    "plt.xticks(rotation=0)\n",
    "plt.show()"
   ]
  },
  {
   "cell_type": "markdown",
   "metadata": {},
   "source": [
    "## 5.a"
   ]
  },
  {
   "cell_type": "markdown",
   "metadata": {},
   "source": [
    "$H_0: med(X_1) = med(X_2)$\n",
    "\n",
    "$H_1: med(X_1) \\neq med(X_2)$\n",
    "\n",
    "Проверим нулевую гипотезу методом доверительных интервалов для бутстрапированных выборок"
   ]
  },
  {
   "cell_type": "code",
   "execution_count": 27,
   "metadata": {
    "collapsed": false
   },
   "outputs": [],
   "source": [
    "# выделим переменные для рассматриваемых данных\n",
    "\n",
    "age0 = data[data.default==0].AGE.values\n",
    "age1 = data[data.default==1].AGE.values\n",
    "\n",
    "# получим по 1000 бутстрапированных выборок для каждой из групп заемщиков\n",
    "\n",
    "age0_bs = get_bootstrap_samples(age0, 1000)\n",
    "age1_bs = get_bootstrap_samples(age1, 1000)\n",
    "\n",
    "# посчитаем медианы по каждой из выборок\n",
    "\n",
    "age0_bs_med = list(map(np.median, age0_bs))\n",
    "age1_bs_med = list(map(np.median, age1_bs))"
   ]
  },
  {
   "cell_type": "code",
   "execution_count": 28,
   "metadata": {
    "collapsed": false,
    "scrolled": false
   },
   "outputs": [
    {
     "name": "stdout",
     "output_type": "stream",
     "text": [
      "95%-ые доверительные интервалы для медиан возраста: \n",
      " по вернувшим кредит:  [ 34.  34.] \n",
      " по не вернувшим кредит:  [ 34.  35.] \n",
      "следовательно, гипотеза о равенстве медиан не отвергается \n",
      "\n",
      "Кроме того, разность медиан можно признать практически не значимой\n"
     ]
    }
   ],
   "source": [
    "# Ответ\n",
    "\n",
    "print('95%-ые доверительные интервалы для медиан возраста:',\n",
    "      '\\n по вернувшим кредит: ', bootstrap_confint(age0_bs_med, 0.05),\n",
    "      '\\n по не вернувшим кредит: ', bootstrap_confint(age1_bs_med, 0.05),\n",
    "     '\\nследовательно, гипотеза о равенстве медиан не отвергается',\n",
    "     '\\n\\nКроме того, разность медиан можно признать практически не значимой')"
   ]
  },
  {
   "cell_type": "markdown",
   "metadata": {},
   "source": [
    "## 5.b"
   ]
  },
  {
   "cell_type": "markdown",
   "metadata": {},
   "source": [
    "$H_0: F_{X_1}(x) = F_{X_2}(x)$\n",
    "\n",
    "$H_1: F_{X_1}(x) = F_{X_2}(x + \\Delta), \\Delta\\neq 0$\n",
    "\n",
    "Проверим с помощью перестановочного критерия"
   ]
  },
  {
   "cell_type": "code",
   "execution_count": 29,
   "metadata": {
    "collapsed": false
   },
   "outputs": [
    {
     "name": "stdout",
     "output_type": "stream",
     "text": [
      "Гипотеза о равенстве распределений отвергается в пользу двусторонней альтернативы на уровне значимости 0.05 с p-value = 0.02\n"
     ]
    }
   ],
   "source": [
    "#Ответ\n",
    "\n",
    "print('Гипотеза о равенстве распределений отвергается в пользу двусторонней альтернативы на уровне значимости 0.05',\n",
    "      'с p-value =', round(permutation_test(age0, age1, 1000), 2))"
   ]
  },
  {
   "cell_type": "code",
   "execution_count": null,
   "metadata": {
    "collapsed": true
   },
   "outputs": [],
   "source": []
  }
 ],
 "metadata": {
  "kernelspec": {
   "display_name": "Python 2",
   "language": "python",
   "name": "python2"
  },
  "language_info": {
   "codemirror_mode": {
    "name": "ipython",
    "version": 2
   },
   "file_extension": ".py",
   "mimetype": "text/x-python",
   "name": "python",
   "nbconvert_exporter": "python",
   "pygments_lexer": "ipython2",
   "version": "2.7.13"
  }
 },
 "nbformat": 4,
 "nbformat_minor": 2
}
