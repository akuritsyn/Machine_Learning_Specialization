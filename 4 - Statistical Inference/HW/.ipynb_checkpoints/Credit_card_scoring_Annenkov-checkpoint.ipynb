{
 "cells": [
  {
   "cell_type": "code",
   "execution_count": 2,
   "metadata": {
    "collapsed": false
   },
   "outputs": [
    {
     "name": "stdout",
     "output_type": "stream",
     "text": [
      "Populating the interactive namespace from numpy and matplotlib\n"
     ]
    }
   ],
   "source": [
    "import statsmodels\n",
    "import scipy as sc\n",
    "import numpy as np\n",
    "import pandas as pd\n",
    "import statsmodels.formula.api as smf\n",
    "import statsmodels.stats.api as sms\n",
    "import statsmodels.stats.multitest as smm\n",
    "from statsmodels.graphics.regressionplots import plot_leverage_resid2\n",
    "from statsmodels.stats.weightstats import *\n",
    "import matplotlib.pyplot as plt\n",
    "import scipy\n",
    "%pylab inline"
   ]
  },
  {
   "cell_type": "code",
   "execution_count": 3,
   "metadata": {
    "collapsed": false
   },
   "outputs": [
    {
     "name": "stdout",
     "output_type": "stream",
     "text": [
      "   ID  LIMIT_BAL  SEX  EDUCATION  MARRIAGE  AGE  PAY_0  PAY_2  PAY_3  PAY_4  \\\n",
      "0   1      20000    2          2         1   24      2      2      0      0   \n",
      "1   2     120000    2          2         2   26      0      2      0      0   \n",
      "2   3      90000    2          2         2   34      0      0      0      0   \n",
      "3   4      50000    2          2         1   37      0      0      0      0   \n",
      "4   5      50000    1          2         1   57      0      0      0      0   \n",
      "\n",
      "    ...     BILL_AMT4  BILL_AMT5  BILL_AMT6  PAY_AMT1  PAY_AMT2  PAY_AMT3  \\\n",
      "0   ...             0          0          0         0       689         0   \n",
      "1   ...          3272       3455       3261         0      1000      1000   \n",
      "2   ...         14331      14948      15549      1518      1500      1000   \n",
      "3   ...         28314      28959      29547      2000      2019      1200   \n",
      "4   ...         20940      19146      19131      2000     36681     10000   \n",
      "\n",
      "   PAY_AMT4  PAY_AMT5  PAY_AMT6  default  \n",
      "0         0         0         0        1  \n",
      "1      1000         0      2000        1  \n",
      "2      1000      1000      5000        0  \n",
      "3      1100      1069      1000        0  \n",
      "4      9000       689       679        0  \n",
      "\n",
      "[5 rows x 25 columns]\n"
     ]
    }
   ],
   "source": [
    "raw_data = pd.read_csv('credit_card_default_analysis.csv', sep=',')\n",
    "print raw_data.head()"
   ]
  },
  {
   "cell_type": "markdown",
   "metadata": {},
   "source": [
    "# Анализ размера кредитного лимита"
   ]
  },
  {
   "cell_type": "code",
   "execution_count": 4,
   "metadata": {
    "collapsed": false
   },
   "outputs": [
    {
     "name": "stdout",
     "output_type": "stream",
     "text": [
      "   ID  LIMIT_BAL  SEX  EDUCATION  MARRIAGE  AGE  PAY_0  PAY_2  PAY_3  PAY_4  \\\n",
      "0   1      20000    2          2         1   24      2      2      0      0   \n",
      "1   2     120000    2          2         2   26      0      2      0      0   \n",
      "2   3      90000    2          2         2   34      0      0      0      0   \n",
      "3   4      50000    2          2         1   37      0      0      0      0   \n",
      "4   5      50000    1          2         1   57      0      0      0      0   \n",
      "\n",
      "    ...     BILL_AMT4  BILL_AMT5  BILL_AMT6  PAY_AMT1  PAY_AMT2  PAY_AMT3  \\\n",
      "0   ...             0          0          0         0       689         0   \n",
      "1   ...          3272       3455       3261         0      1000      1000   \n",
      "2   ...         14331      14948      15549      1518      1500      1000   \n",
      "3   ...         28314      28959      29547      2000      2019      1200   \n",
      "4   ...         20940      19146      19131      2000     36681     10000   \n",
      "\n",
      "   PAY_AMT4  PAY_AMT5  PAY_AMT6  default  \n",
      "0         0         0         0        1  \n",
      "1      1000         0      2000        1  \n",
      "2      1000      1000      5000        0  \n",
      "3      1100      1069      1000        0  \n",
      "4      9000       689       679        0  \n",
      "\n",
      "[5 rows x 25 columns]\n"
     ]
    },
    {
     "data": {
      "text/plain": [
       "([array([  8.81400000e+03,   6.34500000e+03,   4.24700000e+03,\n",
       "           2.37100000e+03,   1.40400000e+03,   1.10000000e+02,\n",
       "           5.30000000e+01,   1.90000000e+01,   0.00000000e+00,\n",
       "           1.00000000e+00]),\n",
       "  array([  3.68400000e+03,   1.53500000e+03,   8.12000000e+02,\n",
       "           3.88000000e+02,   1.94000000e+02,   1.70000000e+01,\n",
       "           3.00000000e+00,   3.00000000e+00,   0.00000000e+00,\n",
       "           0.00000000e+00])],\n",
       " array([   10000.,   109000.,   208000.,   307000.,   406000.,   505000.,\n",
       "          604000.,   703000.,   802000.,   901000.,  1000000.]),\n",
       " <a list of 2 Lists of Patches objects>)"
      ]
     },
     "execution_count": 4,
     "metadata": {},
     "output_type": "execute_result"
    },
    {
     "data": {
      "image/png": "[encoded data removed]",
      "text/plain": [
       "<matplotlib.figure.Figure at 0x10409c950>"
      ]
     },
     "metadata": {},
     "output_type": "display_data"
    }
   ],
   "source": [
    "raw_data = pd.read_csv('credit_card_default_analysis.csv', sep=',')\n",
    "print raw_data.head()\n",
    "\n",
    "#Построим гистограмму для значений размера кредитного лимита. Синим цветом построена гистограмма для значений кредитного \n",
    "# для людей, вернувших долг. Зелёным цветом построена гистограмма для людей, которые не вернули долг.\n",
    "hist((raw_data[raw_data['default'] == 0]['LIMIT_BAL'].values, raw_data[raw_data['default'] == 1]['LIMIT_BAL'].values ))"
   ]
  },
  {
   "cell_type": "code",
   "execution_count": 4,
   "metadata": {
    "collapsed": false
   },
   "outputs": [
    {
     "data": {
      "text/plain": [
       "23364"
      ]
     },
     "execution_count": 4,
     "metadata": {},
     "output_type": "execute_result"
    }
   ],
   "source": [
    "raw_data[raw_data['default'] == 0]['LIMIT_BAL'].values.shape[0]"
   ]
  },
  {
   "cell_type": "markdown",
   "metadata": {},
   "source": [
    "Проверим применимость критерия Стьюдента для сравнения средних двух независимых выборок с неизвестными СКО. СКО выборки большего объёма, должно быть не меньше чем СКО выборки меньшего объёма."
   ]
  },
  {
   "cell_type": "code",
   "execution_count": 5,
   "metadata": {
    "collapsed": false
   },
   "outputs": [
    {
     "name": "stdout",
     "output_type": "stream",
     "text": [
      "23364 6636\n",
      "16255.6958612\n"
     ]
    }
   ],
   "source": [
    "n1 = raw_data[raw_data['default'] == 0]['LIMIT_BAL'].values.shape[0]\n",
    "n2 = raw_data[raw_data['default'] == 1]['LIMIT_BAL'].values.shape[0]\n",
    "print n1, n2\n",
    "q1 = np.std(raw_data[raw_data['default'] == 0]['LIMIT_BAL'].values)\n",
    "q2 = np.std(raw_data[raw_data['default'] == 1]['LIMIT_BAL'].values)\n",
    "print q1 - q2"
   ]
  },
  {
   "cell_type": "markdown",
   "metadata": {},
   "source": [
    "Как видно при $n_1>n_2$   $\\sigma_1 > \\sigma_2$, следовательно $T$-критерий Стьюдента применим для сравнения средних значений суммы кредита для 2-ух групп: вернули кредит, не вернули кредит"
   ]
  },
  {
   "cell_type": "markdown",
   "metadata": {},
   "source": [
    "Проверим гипотезу о равенстве медианных значений кредитного лимита с помощью интервальной оценки для T-критерия Стюдента против двусторонней альтернативы о том, что медианы отличаются. "
   ]
  },
  {
   "cell_type": "code",
   "execution_count": 6,
   "metadata": {
    "collapsed": false
   },
   "outputs": [
    {
     "data": {
      "text/plain": [
       "Ttest_indResult(statistic=28.951587933509845, pvalue=3.3641002455114717e-178)"
      ]
     },
     "execution_count": 6,
     "metadata": {},
     "output_type": "execute_result"
    }
   ],
   "source": [
    "scipy.stats.ttest_ind(raw_data[raw_data['default'] == 0]['LIMIT_BAL'].values, raw_data[raw_data['default'] == 1]['LIMIT_BAL'].values, equal_var = False)"
   ]
  },
  {
   "cell_type": "code",
   "execution_count": 7,
   "metadata": {
    "collapsed": false
   },
   "outputs": [
    {
     "name": "stdout",
     "output_type": "stream",
     "text": [
      "95% confidence interval: [44740.910729, 51239.228581]\n",
      "Mean with default 0:  178099.726074\n",
      "Mean with default 1:  130109.65642\n",
      "Fold change: 1.36884325864\n"
     ]
    }
   ],
   "source": [
    "cm = CompareMeans(DescrStatsW(raw_data[raw_data['default'] == 0]['LIMIT_BAL'].values), DescrStatsW(raw_data[raw_data['default'] == 1]['LIMIT_BAL'].values))\n",
    "print \"95%% confidence interval: [%f, %f]\" % cm.tconfint_diff(usevar='unequal')\n",
    "print \"Mean with default 0: \" , np.mean(raw_data[raw_data['default'] == 0]['LIMIT_BAL'].values)\n",
    "print \"Mean with default 1: \" , np.mean(raw_data[raw_data['default'] == 1]['LIMIT_BAL'].values)\n",
    "print \"Fold change:\", np.mean(raw_data[raw_data['default'] == 0]['LIMIT_BAL'].values) / np.mean(raw_data[raw_data['default'] == 1]['LIMIT_BAL'].values)"
   ]
  },
  {
   "cell_type": "markdown",
   "metadata": {},
   "source": [
    "На мой взгляд различие значимо, нулевая гипотеза уверенно отвергается и коэффициент Fold_change имеет достаточно большое значение. Он меньше 1.5, тем не менее говорить о том, что средние равны, нельзя."
   ]
  },
  {
   "cell_type": "markdown",
   "metadata": {},
   "source": [
    "Проверим гипотезу о равенстве\n",
    "\n",
    "$H_0\\colon F_{X_1}(x) = F_{X_2}(x)$\n",
    "\n",
    "$H_1\\colon F_{X_1}(x) = F_{X_2}(x + \\Delta), \\Delta\\neq 0$\n",
    "\n",
    "с помощью перестановочного критерия"
   ]
  },
  {
   "cell_type": "code",
   "execution_count": 8,
   "metadata": {
    "collapsed": true
   },
   "outputs": [],
   "source": [
    "def permutation_t_stat_ind(sample1, sample2):\n",
    "    return np.mean(sample1) - np.mean(sample2)"
   ]
  },
  {
   "cell_type": "code",
   "execution_count": 9,
   "metadata": {
    "collapsed": true
   },
   "outputs": [],
   "source": [
    "def get_random_combinations(n1, n2, max_combinations):\n",
    "    index = range(n1 + n2)\n",
    "    indices = set([tuple(index)])\n",
    "    for i in range(max_combinations - 1):\n",
    "        np.random.shuffle(index)\n",
    "        indices.add(tuple(index))\n",
    "    return [(index[:n1], index[n1:]) for index in indices]"
   ]
  },
  {
   "cell_type": "code",
   "execution_count": 10,
   "metadata": {
    "collapsed": true
   },
   "outputs": [],
   "source": [
    "def permutation_zero_dist_ind(sample1, sample2, max_combinations = None):\n",
    "    joined_sample = np.hstack((sample1, sample2))\n",
    "    n1 = len(sample1)\n",
    "    n = len(joined_sample)\n",
    "    \n",
    "    if max_combinations:\n",
    "        indices = get_random_combinations(n1, len(sample2), max_combinations)\n",
    "    else:\n",
    "        indices = [(list(index), filter(lambda i: i not in index, range(n))) \\\n",
    "                    for index in itertools.combinations(range(n), n1)]\n",
    "    \n",
    "    distr = [joined_sample[list(i[0])].mean() - joined_sample[list(i[1])].mean() \\\n",
    "             for i in indices]\n",
    "    return distr"
   ]
  },
  {
   "cell_type": "code",
   "execution_count": 11,
   "metadata": {
    "collapsed": false
   },
   "outputs": [
    {
     "data": {
      "image/png": "[encoded data removed]",
      "text/plain": [
       "<matplotlib.figure.Figure at 0x10432d490>"
      ]
     },
     "metadata": {},
     "output_type": "display_data"
    }
   ],
   "source": [
    "pylab.hist(permutation_zero_dist_ind(raw_data[raw_data['default'] == 1]['LIMIT_BAL'].values, raw_data[raw_data['default'] == 0]['LIMIT_BAL'].values, max_combinations = 1000), bins=50, range=(-10000,10000), color = 'yellowgreen', alpha = 0.5)\n",
    "pylab.show()"
   ]
  },
  {
   "cell_type": "markdown",
   "metadata": {},
   "source": [
    "Как видно из приведённого выше графика распределение разностей средних напоминает нормальное. Проверим двустороннюю альтернативу, так как для выбора определённой стороны нет оснований."
   ]
  },
  {
   "cell_type": "code",
   "execution_count": 12,
   "metadata": {
    "collapsed": true
   },
   "outputs": [],
   "source": [
    "def permutation_test(sample, mean, max_permutations = None, alternative = 'two-sided'):\n",
    "    if alternative not in ('two-sided', 'less', 'greater'):\n",
    "        raise ValueError(\"alternative not recognized\\n\"\n",
    "                         \"should be 'two-sided', 'less' or 'greater'\")\n",
    "    \n",
    "    t_stat = permutation_t_stat_ind(sample, mean)\n",
    "    \n",
    "    zero_distr = permutation_zero_dist_ind(sample, mean, max_permutations)\n",
    "    \n",
    "    if alternative == 'two-sided':\n",
    "        return sum([1. if abs(x) >= abs(t_stat) else 0. for x in zero_distr]) / len(zero_distr)\n",
    "    \n",
    "    if alternative == 'less':\n",
    "        return sum([1. if x <= t_stat else 0. for x in zero_distr]) / len(zero_distr)\n",
    "\n",
    "    if alternative == 'greater':\n",
    "        return sum([1. if x >= t_stat else 0. for x in zero_distr]) / len(zero_distr)"
   ]
  },
  {
   "cell_type": "code",
   "execution_count": 13,
   "metadata": {
    "collapsed": false
   },
   "outputs": [
    {
     "name": "stdout",
     "output_type": "stream",
     "text": [
      "p-value: 0.000100\n",
      "CPU times: user 42.4 s, sys: 6.34 s, total: 48.7 s\n",
      "Wall time: 52.2 s\n"
     ]
    }
   ],
   "source": [
    "%%time\n",
    "print \"p-value: %f\" % permutation_test(raw_data[raw_data['default'] == 0]['LIMIT_BAL'].values, raw_data[raw_data['default'] == 1]['LIMIT_BAL'].values, max_permutations = 10000)"
   ]
  },
  {
   "cell_type": "markdown",
   "metadata": {},
   "source": [
    "Гипотезу о равенстве распределений отвергаем на уровне значимости $\\alpha=0.5$ Уровень значимости: 0.000100"
   ]
  },
  {
   "cell_type": "markdown",
   "metadata": {},
   "source": [
    "# Гипотеза об отличиях в зависимости от пола заёмщика"
   ]
  },
  {
   "cell_type": "markdown",
   "metadata": {},
   "source": [
    "Проверка данной гипотезы сводится к проверке гипотезе о равенстве долей мужчин и женщин, вернувших кредит, и мужчин и женщин, не вернувших кредит. Выборки являются независимыми, так как в клиенты, вернувшие и не вернувшие кредит не одни и те же люди. Проверим гипотезу о долях двух независимых выборок с помощью $Z$ - критерия для разности долей."
   ]
  },
  {
   "cell_type": "markdown",
   "metadata": {},
   "source": [
    "   | $X_1$ | $X_2$  \n",
    "  ------------- | -------------|\n",
    "  1  | a | b \n",
    "  0  | c | d \n",
    "  $\\sum$ | $n_1$| $n_2$\n",
    "  \n",
    "$$ \\hat{p}_1 = \\frac{a}{n_1}$$\n",
    "\n",
    "$$ \\hat{p}_2 = \\frac{b}{n_2}$$\n",
    "\n",
    "\n",
    "$$\\text{Доверительный интервал для }p_1 - p_2\\colon \\;\\; \\hat{p}_1 - \\hat{p}_2 \\pm z_{1-\\frac{\\alpha}{2}}\\sqrt{\\frac{\\hat{p}_1(1 - \\hat{p}_1)}{n_1} + \\frac{\\hat{p}_2(1 - \\hat{p}_2)}{n_2}}$$\n",
    "\n",
    "$$Z-статистика: Z({X_1, X_2}) =  \\frac{\\hat{p}_1 - \\hat{p}_2}{\\sqrt{P(1 - P)(\\frac{1}{n_1} + \\frac{1}{n_2})}}$$\n",
    "$$P = \\frac{\\hat{p}_1{n_1} + \\hat{p}_2{n_2}}{{n_1} + {n_2}} $$"
   ]
  },
  {
   "cell_type": "code",
   "execution_count": 23,
   "metadata": {
    "collapsed": true
   },
   "outputs": [],
   "source": [
    "def proportions_diff_confint_ind(p1, p2, n1, n2, alpha = 0.05):    \n",
    "    z = scipy.stats.norm.ppf(1 - alpha / 2.)\n",
    "    \n",
    "    #n1 = len(sample1)\n",
    "    #n2 = len(sample2)\n",
    "    #p1 = float(sum(sample1)) / n1\n",
    "    #p2 = float(sum(sample2)) / n2   \n",
    "    \n",
    "    left_boundary = (p1 - p2) - z * np.sqrt(p1 * (1 - p1)/ n1 + p2 * (1 - p2)/ n2)\n",
    "    right_boundary = (p1 - p2) + z * np.sqrt(p1 * (1 - p1)/ n1 + p2 * (1 - p2)/ n2)\n",
    "    \n",
    "    return (left_boundary, right_boundary)"
   ]
  },
  {
   "cell_type": "code",
   "execution_count": 24,
   "metadata": {
    "collapsed": true
   },
   "outputs": [],
   "source": [
    "def proportions_diff_z_stat_ind(p1, p2, n1, n2):\n",
    "    #n1 = len(sample1)\n",
    "    #n2 = len(sample2)\n",
    "    \n",
    "    #p1 = float(sum(sample1)) / n1\n",
    "    #p2 = float(sum(sample2)) / n2\n",
    "    P = float(p1*n1 + p2*n2) / (n1 + n2)\n",
    "    \n",
    "    return (p1 - p2) / np.sqrt(P * (1 - P) * (1. / n1 + 1. / n2))"
   ]
  },
  {
   "cell_type": "code",
   "execution_count": 25,
   "metadata": {
    "collapsed": true
   },
   "outputs": [],
   "source": [
    "def proportions_diff_z_test(z_stat, alternative = 'two-sided'):\n",
    "    if alternative not in ('two-sided', 'less', 'greater'):\n",
    "        raise ValueError(\"alternative not recognized\\n\"\n",
    "                         \"should be 'two-sided', 'less' or 'greater'\")\n",
    "    \n",
    "    if alternative == 'two-sided':\n",
    "        return 2 * (1 - scipy.stats.norm.cdf(np.abs(z_stat)))\n",
    "    \n",
    "    if alternative == 'less':\n",
    "        return scipy.stats.norm.cdf(z_stat)\n",
    "\n",
    "    if alternative == 'greater':\n",
    "        return 1 - scipy.stats.norm.cdf(z_stat)"
   ]
  },
  {
   "cell_type": "markdown",
   "metadata": {},
   "source": [
    "Введём новые колонки для 4-ёх категорий людей: \n",
    "\n",
    " 1. Мужчина вернул долг - male_plus\n",
    " 2. Мужчина не вернул долг - male_minus\n",
    " 3. Женщина вернула долг - female_plus\n",
    " 4. Женщина не вернула долг - female_minus"
   ]
  },
  {
   "cell_type": "code",
   "execution_count": 17,
   "metadata": {
    "collapsed": false
   },
   "outputs": [
    {
     "name": "stdout",
     "output_type": "stream",
     "text": [
      "   ID  LIMIT_BAL  SEX  EDUCATION  MARRIAGE  AGE  PAY_0  PAY_2  PAY_3  PAY_4  \\\n",
      "0   1      20000    2          2         1   24      2      2      0      0   \n",
      "1   2     120000    2          2         2   26      0      2      0      0   \n",
      "2   3      90000    2          2         2   34      0      0      0      0   \n",
      "3   4      50000    2          2         1   37      0      0      0      0   \n",
      "4   5      50000    1          2         1   57      0      0      0      0   \n",
      "\n",
      "       ...       PAY_AMT2  PAY_AMT3  PAY_AMT4  PAY_AMT5  PAY_AMT6  default  \\\n",
      "0      ...            689         0         0         0         0        1   \n",
      "1      ...           1000      1000      1000         0      2000        1   \n",
      "2      ...           1500      1000      1000      1000      5000        0   \n",
      "3      ...           2019      1200      1100      1069      1000        0   \n",
      "4      ...          36681     10000      9000       689       679        0   \n",
      "\n",
      "   male_plus  male_minus  female_plus  female_minus  \n",
      "0          0           0            0             1  \n",
      "1          0           0            0             1  \n",
      "2          0           0            1             0  \n",
      "3          0           0            1             0  \n",
      "4          1           0            0             0  \n",
      "\n",
      "[5 rows x 29 columns]\n"
     ]
    }
   ],
   "source": [
    "raw_data['male_plus'] = map(lambda (x, y): 1 if ((x == 1) & (y == 0)) else 0, zip(raw_data['SEX'], raw_data['default']))\n",
    "raw_data['male_minus'] = map(lambda (x, y): 1 if ((x == 1) & (y == 1)) else 0, zip(raw_data['SEX'], raw_data['default']))\n",
    "raw_data['female_plus'] = map(lambda (x, y): 1 if ((x == 2) & (y == 0)) else 0, zip(raw_data['SEX'], raw_data['default']))\n",
    "raw_data['female_minus'] = map(lambda (x, y): 1 if ((x == 2) & (y == 1)) else 0, zip(raw_data['SEX'], raw_data['default']))\n",
    "print raw_data.head()"
   ]
  },
  {
   "cell_type": "markdown",
   "metadata": {},
   "source": [
    "Построим гистограммы для этих 4-ёх групп людей"
   ]
  },
  {
   "cell_type": "code",
   "execution_count": 18,
   "metadata": {
    "collapsed": false
   },
   "outputs": [
    {
     "data": {
      "text/plain": [
       "<matplotlib.legend.Legend at 0x114cd8c50>"
      ]
     },
     "execution_count": 18,
     "metadata": {},
     "output_type": "execute_result"
    },
    {
     "data": {
      "image/png": "[encoded data removed]",
      "text/plain": [
       "<matplotlib.figure.Figure at 0x104391810>"
      ]
     },
     "metadata": {},
     "output_type": "display_data"
    }
   ],
   "source": [
    "pylab.hist((raw_data[raw_data['male_plus'].values == 1]['male_plus'].values, raw_data[raw_data['male_minus'].values == 1]['male_minus'].values, raw_data[raw_data['female_plus'].values == 1]['female_plus'].values, raw_data[raw_data['female_minus'].values == 1]['female_minus'].values), label = ('Male_plus', 'Male_minus', 'Female_plus', 'Female_minus'), range = (0.8, 1.2))\n",
    "pylab.legend()"
   ]
  },
  {
   "cell_type": "markdown",
   "metadata": {},
   "source": [
    "Визуально гендерный состав людей, вернувших кредит отличается от гендерного состава людей не вернувших кредит. В последней группе кол-во мужчин и женщин почти одинаково. Составим таблицу сопряжённости, для этого рассчитаем значения $a$, $b$, $c$ и $d$."
   ]
  },
  {
   "cell_type": "code",
   "execution_count": 19,
   "metadata": {
    "collapsed": false
   },
   "outputs": [
    {
     "name": "stdout",
     "output_type": "stream",
     "text": [
      "9015 2873 14349 3763\n",
      "23364 6636\n"
     ]
    }
   ],
   "source": [
    "a = sum(raw_data['male_plus'].values)\n",
    "b = sum(raw_data['male_minus'].values)\n",
    "c = sum(raw_data['female_plus'].values)\n",
    "d = sum(raw_data['female_minus'].values)\n",
    "print a, b, c, d\n",
    "n1 = a + c\n",
    "n2 = b + d\n",
    "print n1, n2"
   ]
  },
  {
   "cell_type": "markdown",
   "metadata": {},
   "source": [
    "Таблица сопряжённости\n",
    "\n",
    "   | $X_1$ | $X_2$  \n",
    "  ------------- | -------------|\n",
    "  1  | 9015 | 2873 \n",
    "  0  | 14349 | 3763 \n",
    "  $\\sum$ | $23364$| $6636$"
   ]
  },
  {
   "cell_type": "markdown",
   "metadata": {},
   "source": [
    "На основании таблицы сопряжённости рассчитаем значения $p_1$ и $p_2$"
   ]
  },
  {
   "cell_type": "code",
   "execution_count": 20,
   "metadata": {
    "collapsed": false
   },
   "outputs": [
    {
     "name": "stdout",
     "output_type": "stream",
     "text": [
      "0.385850025681 0.432941531043\n"
     ]
    }
   ],
   "source": [
    "p1 = float(a) / n1\n",
    "p2 = float(b) / n2\n",
    "print p1, p2"
   ]
  },
  {
   "cell_type": "markdown",
   "metadata": {},
   "source": [
    "Построим доверительный интервал для разности долей"
   ]
  },
  {
   "cell_type": "code",
   "execution_count": 21,
   "metadata": {
    "collapsed": false
   },
   "outputs": [
    {
     "name": "stdout",
     "output_type": "stream",
     "text": [
      "95% confidence interval for a difference between proportions: [-0.060548, -0.033635]\n"
     ]
    }
   ],
   "source": [
    "print \"95%% confidence interval for a difference between proportions: [%f, %f]\" %\\\n",
    "proportions_diff_confint_ind(p1, p2, n1, n2, alpha = 0.05)"
   ]
  },
  {
   "cell_type": "markdown",
   "metadata": {},
   "source": [
    "Проверим гипотезу о равенстве долей против двусторонней альтернативы"
   ]
  },
  {
   "cell_type": "code",
   "execution_count": 22,
   "metadata": {
    "collapsed": false
   },
   "outputs": [
    {
     "name": "stdout",
     "output_type": "stream",
     "text": [
      "4.47286652161e-12\n"
     ]
    }
   ],
   "source": [
    "print proportions_diff_z_test(proportions_diff_z_stat_ind(p1, p2, n1, n2))"
   ]
  },
  {
   "cell_type": "markdown",
   "metadata": {},
   "source": [
    "Гипотезу о равенстве долей отвергаем на уровне значимости  $\\alpha=0.5$. Также значение $0$ не попало в доверительный интервал. Следовательно, гендерный состав людей, вернувших и не вернувших кредит действительно отличается. Уровень значимости: 4.47286652161e-12"
   ]
  },
  {
   "cell_type": "code",
   "execution_count": 23,
   "metadata": {
    "collapsed": false
   },
   "outputs": [
    {
     "name": "stdout",
     "output_type": "stream",
     "text": [
      "Fold change:  1.12204613769\n"
     ]
    }
   ],
   "source": [
    "print 'Fold change: ', p2 / p1"
   ]
  },
  {
   "cell_type": "markdown",
   "metadata": {},
   "source": [
    "Однако, не смотря на статистическое отличие долей, нельзя говорить о значительном отличии с практической точки зрения. Доли отличаются примерно на 10%."
   ]
  },
  {
   "cell_type": "markdown",
   "metadata": {},
   "source": [
    "# Проверка гипотезы о влиянии образования на возврат кредита"
   ]
  },
  {
   "cell_type": "markdown",
   "metadata": {},
   "source": [
    "Построим гистограммы для каждого уровня образования и признака возврата кредита на одном графике"
   ]
  },
  {
   "cell_type": "code",
   "execution_count": 24,
   "metadata": {
    "collapsed": false
   },
   "outputs": [
    {
     "data": {
      "text/plain": [
       "<matplotlib.legend.Legend at 0x114f67590>"
      ]
     },
     "execution_count": 24,
     "metadata": {},
     "output_type": "execute_result"
    },
    {
     "data": {
      "image/png": "[encoded data removed]",
      "text/plain": [
       "<matplotlib.figure.Figure at 0x114c44bd0>"
      ]
     },
     "metadata": {},
     "output_type": "display_data"
    }
   ],
   "source": [
    "pylab.hist((raw_data[raw_data['EDUCATION'].values == 0]['default'].values, raw_data[raw_data['EDUCATION'].values == 1]['default'].values, raw_data[raw_data['EDUCATION'].values == 2]['default'].values, raw_data[raw_data['EDUCATION'].values == 3]['default'].values, raw_data[raw_data['EDUCATION'].values == 4]['default'].values, raw_data[raw_data['EDUCATION'].values == 5]['default'].values, raw_data[raw_data['EDUCATION'].values == 6]['default'].values), label = ('0', '1', '2', '3','4', '5', '6'), range = (-0.1, 1.2))\n",
    "pylab.legend()"
   ]
  },
  {
   "cell_type": "markdown",
   "metadata": {},
   "source": [
    "Если факт выдачи кредита не зависит от образования, тогда отношение людей выдавших и невыдавших кредит в рамках одного вида образования должно равняться общему отношению людей выдавших и не выдавших кредит. Обозначим отношение людей выдавших кредит к общему количеству людей как $p_a$. Исходя из общего числа людей в группе по виду образования и отношения $p_a$ определим плановое значение людей выдавших и не выдавших кредит соответственно как $p_a * N_e$"
   ]
  },
  {
   "cell_type": "code",
   "execution_count": 29,
   "metadata": {
    "collapsed": false
   },
   "outputs": [
    {
     "name": "stdout",
     "output_type": "stream",
     "text": [
      "[14, 10585, 14030, 4917, 123, 280, 51]\n"
     ]
    }
   ],
   "source": [
    "Ne = []\n",
    "Ne.append(raw_data[raw_data['EDUCATION'].values == 0]['default'].values.shape[0])\n",
    "Ne.append(raw_data[raw_data['EDUCATION'].values == 1]['default'].values.shape[0])\n",
    "Ne.append(raw_data[raw_data['EDUCATION'].values == 2]['default'].values.shape[0])\n",
    "Ne.append(raw_data[raw_data['EDUCATION'].values == 3]['default'].values.shape[0])\n",
    "Ne.append(raw_data[raw_data['EDUCATION'].values == 4]['default'].values.shape[0])\n",
    "Ne.append(raw_data[raw_data['EDUCATION'].values == 5]['default'].values.shape[0])\n",
    "Ne.append(raw_data[raw_data['EDUCATION'].values == 6]['default'].values.shape[0])\n",
    "NE = np.array(Ne)\n",
    "print Ne"
   ]
  },
  {
   "cell_type": "code",
   "execution_count": 30,
   "metadata": {
    "collapsed": false
   },
   "outputs": [
    {
     "name": "stdout",
     "output_type": "stream",
     "text": [
      "0.2212\n"
     ]
    }
   ],
   "source": [
    "pa = float(raw_data[raw_data['default'] == 1].values.shape[0]) / raw_data['default'].values.shape[0]\n",
    "print pa"
   ]
  },
  {
   "cell_type": "code",
   "execution_count": 31,
   "metadata": {
    "collapsed": false
   },
   "outputs": [
    {
     "name": "stdout",
     "output_type": "stream",
     "text": [
      "[  3.00000000e+00   2.34100000e+03   3.10300000e+03   1.08700000e+03\n",
      "   2.70000000e+01   6.10000000e+01   1.10000000e+01]\n"
     ]
    }
   ],
   "source": [
    "Ne_default = pa * NE\n",
    "for i in np.arange(NE.shape[0]):\n",
    "    Ne_default[i] = np.int(Ne_default[i])\n",
    "print Ne_default"
   ]
  },
  {
   "cell_type": "markdown",
   "metadata": {},
   "source": [
    "Определим разности между наблюдаемым и ожидаемым количеством человек."
   ]
  },
  {
   "cell_type": "code",
   "execution_count": 32,
   "metadata": {
    "collapsed": false
   },
   "outputs": [
    {
     "name": "stdout",
     "output_type": "stream",
     "text": [
      "          ID  LIMIT_BAL  SEX  EDUCATION  MARRIAGE  AGE  PAY_0  PAY_2  PAY_3  \\\n",
      "3769    3770     290000    2          0         2   38      1      0      0   \n",
      "5945    5946     270000    1          0         2   39      1      0      0   \n",
      "6876    6877     360000    1          0         2   30      0      0      0   \n",
      "14631  14632     350000    2          0         2   53      0      0      0   \n",
      "15107  15108     210000    1          0         2   45      0      0      0   \n",
      "16881  16882     100000    1          0         2   37      0      0      0   \n",
      "16896  16897     200000    1          0         2   40      1      0      0   \n",
      "17414  17415     230000    2          0         2   47      0      0      0   \n",
      "19920  19921      50000    2          0         1   40      0      0      0   \n",
      "20030  20031     200000    2          0         2   30      0      0      2   \n",
      "23234  23235     220000    2          0         1   35      0      0      0   \n",
      "24137  24138     150000    1          0         2   28      0      0      0   \n",
      "27155  27156     160000    1          0         1   47      0      0      0   \n",
      "27270  27271     250000    1          0         1   35      0      0      0   \n",
      "\n",
      "       PAY_4      ...       PAY_AMT2  PAY_AMT3  PAY_AMT4  PAY_AMT5  PAY_AMT6  \\\n",
      "3769       0      ...           3078      1406      2196      1481         0   \n",
      "5945       0      ...          70213     19008       399         0         0   \n",
      "6876       0      ...          12280     25007     25008      1767      3300   \n",
      "14631      0      ...          61349     22687      1389      6058      1153   \n",
      "15107      0      ...           1032       788      3565      3372     15381   \n",
      "16881      0      ...              0         0         0         0         0   \n",
      "16896      0      ...            200      1000         0         0         0   \n",
      "17414      2      ...           1598         0      5425      4838      3840   \n",
      "19920      0      ...           2298      2100      2500      1921      8432   \n",
      "20030      0      ...              0      9470      5834      7809      2886   \n",
      "23234      0      ...          10567       319       319       319      2420   \n",
      "24137      0      ...           4065      1058      3976      2216         0   \n",
      "27155      0      ...           3707      6991        77      4613      4099   \n",
      "27270      0      ...          12046     33718         0      1190       590   \n",
      "\n",
      "       default  male_plus  male_minus  female_plus  female_minus  \n",
      "3769         0          0           0            1             0  \n",
      "5945         0          1           0            0             0  \n",
      "6876         0          1           0            0             0  \n",
      "14631        0          0           0            1             0  \n",
      "15107        0          1           0            0             0  \n",
      "16881        0          1           0            0             0  \n",
      "16896        0          1           0            0             0  \n",
      "17414        0          0           0            1             0  \n",
      "19920        0          0           0            1             0  \n",
      "20030        0          0           0            1             0  \n",
      "23234        0          0           0            1             0  \n",
      "24137        0          1           0            0             0  \n",
      "27155        0          1           0            0             0  \n",
      "27270        0          1           0            0             0  \n",
      "\n",
      "[14 rows x 29 columns]\n"
     ]
    }
   ],
   "source": [
    "Educ_0 = raw_data[raw_data['EDUCATION'].values == 0]\n",
    "Educ_1 = raw_data[raw_data['EDUCATION'].values == 1]\n",
    "Educ_2 = raw_data[raw_data['EDUCATION'].values == 2]\n",
    "Educ_3 = raw_data[raw_data['EDUCATION'].values == 3]\n",
    "Educ_4 = raw_data[raw_data['EDUCATION'].values == 4]\n",
    "Educ_5 = raw_data[raw_data['EDUCATION'].values == 5]\n",
    "Educ_6 = raw_data[raw_data['EDUCATION'].values == 6]\n",
    "print Educ_0"
   ]
  },
  {
   "cell_type": "code",
   "execution_count": 53,
   "metadata": {
    "collapsed": false
   },
   "outputs": [
    {
     "name": "stdout",
     "output_type": "stream",
     "text": [
      "0.0\n",
      "0.192347661786\n",
      "0.237348538845\n",
      "0.251576164328\n",
      "0.0569105691057\n",
      "0.0642857142857\n",
      "0.156862745098\n",
      "14 0\n",
      "8549 2036\n",
      "10700 3330\n",
      "3680 1237\n",
      "116 7\n",
      "262 18\n",
      "43 8\n"
     ]
    }
   ],
   "source": [
    "Educ_0_0 = Educ_0[Educ_0['default'] == 0].values.shape[0]\n",
    "Educ_0_1 = Educ_0[Educ_0['default'] == 1].values.shape[0]\n",
    "Educ_1_0 = Educ_1[Educ_1['default'] == 0].values.shape[0]\n",
    "Educ_1_1 = Educ_1[Educ_1['default'] == 1].values.shape[0]\n",
    "Educ_2_0 = Educ_2[Educ_2['default'] == 0].values.shape[0]\n",
    "Educ_2_1 = Educ_2[Educ_2['default'] == 1].values.shape[0]\n",
    "Educ_3_0 = Educ_3[Educ_3['default'] == 0].values.shape[0]\n",
    "Educ_3_1 = Educ_3[Educ_3['default'] == 1].values.shape[0]\n",
    "Educ_4_0 = Educ_4[Educ_4['default'] == 0].values.shape[0]\n",
    "Educ_4_1 = Educ_4[Educ_4['default'] == 1].values.shape[0]\n",
    "Educ_5_0 = Educ_5[Educ_5['default'] == 0].values.shape[0]\n",
    "Educ_5_1 = Educ_5[Educ_5['default'] == 1].values.shape[0]\n",
    "Educ_6_0 = Educ_6[Educ_6['default'] == 0].values.shape[0]\n",
    "Educ_6_1 = Educ_6[Educ_6['default'] == 1].values.shape[0]\n",
    "print np.float(Educ_0_1) / Educ_0.values.shape[0]\n",
    "print np.float(Educ_1_1) / Educ_1.values.shape[0]\n",
    "print np.float(Educ_2_1) / Educ_2.values.shape[0]\n",
    "print np.float(Educ_3_1) / Educ_3.values.shape[0]\n",
    "print np.float(Educ_4_1) / Educ_4.values.shape[0]\n",
    "print np.float(Educ_5_1) / Educ_5.values.shape[0]\n",
    "print np.float(Educ_6_1) / Educ_6.values.shape[0]\n",
    "print Educ_0_0, Educ_0_1\n",
    "print Educ_1_0, Educ_1_1\n",
    "print Educ_2_0, Educ_2_1\n",
    "print Educ_3_0, Educ_3_1\n",
    "print Educ_4_0, Educ_4_1\n",
    "print Educ_5_0, Educ_5_1\n",
    "print Educ_6_0, Educ_6_1"
   ]
  },
  {
   "cell_type": "markdown",
   "metadata": {},
   "source": [
    "Проверим гипотезу о том, что указанные в ячейке выше отношения равны $p_a = 0.2212$. Для этого воспользуемся "
   ]
  },
  {
   "cell_type": "markdown",
   "metadata": {
    "collapsed": false
   },
   "source": [
    "## Z-критерий для разности долей (независимые выборки)"
   ]
  },
  {
   "cell_type": "markdown",
   "metadata": {
    "collapsed": true
   },
   "source": [
    "   | $X_1$ | $X_2$  \n",
    "  ------------- | -------------|\n",
    "  1  | a | b \n",
    "  0  | c | d \n",
    "  $\\sum$ | $n_1$| $n_2$\n",
    "  \n",
    "$$ \\hat{p}_1 = \\frac{a}{n_1}$$\n",
    "\n",
    "$$ \\hat{p}_2 = \\frac{b}{n_2}$$\n",
    "\n",
    "\n",
    "$$\\text{Доверительный интервал для }p_1 - p_2\\colon \\;\\; \\hat{p}_1 - \\hat{p}_2 \\pm z_{1-\\frac{\\alpha}{2}}\\sqrt{\\frac{\\hat{p}_1(1 - \\hat{p}_1)}{n_1} + \\frac{\\hat{p}_2(1 - \\hat{p}_2)}{n_2}}$$\n",
    "\n",
    "$$Z-статистика: Z({X_1, X_2}) =  \\frac{\\hat{p}_1 - \\hat{p}_2}{\\sqrt{P(1 - P)(\\frac{1}{n_1} + \\frac{1}{n_2})}}$$\n",
    "$$P = \\frac{\\hat{p}_1{n_1} + \\hat{p}_2{n_2}}{{n_1} + {n_2}} $$"
   ]
  },
  {
   "cell_type": "markdown",
   "metadata": {},
   "source": [
    "   | $X_1$ | $X_2$  \n",
    "  ------------- | -------------|\n",
    "  1  | 0 | 3 \n",
    "  0  | 14 | 11\n",
    "  $\\sum$ | $n_1$| $n_2$"
   ]
  },
  {
   "cell_type": "markdown",
   "metadata": {},
   "source": [
    "Проверим гипотезу о равенстве долей выданных и невыданных кредитов для докторов наук против двусторонней альтернативы о их неравенстве. Так как выборки независимые, используем соответствующий Z-критерий"
   ]
  },
  {
   "cell_type": "code",
   "execution_count": 45,
   "metadata": {
    "collapsed": false
   },
   "outputs": [
    {
     "name": "stdout",
     "output_type": "stream",
     "text": [
      "95% confidence interval for a difference between proportions: [-0.506018, -0.039437]\n"
     ]
    }
   ],
   "source": [
    "p1 = float(0) / 14.\n",
    "p2 = float(3) / 11.\n",
    "n1 = 14\n",
    "n2 = 14\n",
    "print \"95%% confidence interval for a difference between proportions: [%f, %f]\" %\\\n",
    "proportions_diff_confint_ind(p1, p2, n1, n2, alpha = 0.05)"
   ]
  },
  {
   "cell_type": "code",
   "execution_count": 51,
   "metadata": {
    "collapsed": false
   },
   "outputs": [
    {
     "name": "stdout",
     "output_type": "stream",
     "text": [
      "0.000220065642082\n"
     ]
    },
    {
     "data": {
      "text/plain": [
       "219"
      ]
     },
     "execution_count": 51,
     "metadata": {},
     "output_type": "execute_result"
    }
   ],
   "source": [
    "print proportions_diff_z_test(proportions_diff_z_stat_ind(p1, p2, n1, n2))\n",
    "280-61"
   ]
  },
  {
   "cell_type": "markdown",
   "metadata": {},
   "source": [
    "Как видно из результатов выше для докторов наук нельзя сказать на уровне значимости 0.05 о том, что нет связи между фактом выдачи кредита и научной степенью доктора наук. Уровень значимости 0.0354981313207"
   ]
  },
  {
   "cell_type": "markdown",
   "metadata": {},
   "source": [
    "Проверим гипотезу о равенстве долей выданных и невыданных кредитов для магистров наук против двусторонней альтернативы\n",
    "\n",
    "\n",
    "   | $X_1$ | $X_2$  \n",
    "  ------------- | -------------|\n",
    "  1  | 2036 | 2341 \n",
    "  0  | 8549 | 8244\n",
    "  $\\sum$ | $10585$| $10585$"
   ]
  },
  {
   "cell_type": "code",
   "execution_count": 41,
   "metadata": {
    "collapsed": false
   },
   "outputs": [
    {
     "name": "stdout",
     "output_type": "stream",
     "text": [
      "95% confidence interval for a difference between proportions: [-0.039718, -0.017911]\n",
      "2.26496940314e-07\n"
     ]
    }
   ],
   "source": [
    "p1 = float(2036) / 10585.\n",
    "p2 = float(2341) / 10585.\n",
    "n1 = 10585\n",
    "n2 = 10585\n",
    "print \"95%% confidence interval for a difference between proportions: [%f, %f]\" %\\\n",
    "proportions_diff_confint_ind(p1, p2, n1, n2, alpha = 0.05)\n",
    "print proportions_diff_z_test(proportions_diff_z_stat_ind(p1, p2, n1, n2))"
   ]
  },
  {
   "cell_type": "markdown",
   "metadata": {},
   "source": [
    "Как видно из результатов выше для магистров наук нельзя сказать на уровне значимости 0.05 о том, что нет связи между фактом выдачи кредита и научной степенью доктора наук. Уровень значимости 2.26496940314e-07"
   ]
  },
  {
   "cell_type": "markdown",
   "metadata": {},
   "source": [
    "Проверим гипотезу о равенстве долей выданных и невыданных кредитов для бакалавра против двусторонней альтернативы о их неравенстве\n",
    "\n",
    "\n",
    "   | $X_1$ | $X_2$  \n",
    "  ------------- | -------------|\n",
    "  1  | 3330 | 3103 \n",
    "  0  | 10700 | 10927\n",
    "  $\\sum$ | $14030$| $14030$"
   ]
  },
  {
   "cell_type": "code",
   "execution_count": 44,
   "metadata": {
    "collapsed": false
   },
   "outputs": [
    {
     "name": "stdout",
     "output_type": "stream",
     "text": [
      "95% confidence interval for a difference between proportions: [0.006345, 0.026015]\n",
      "0.00126512590695\n"
     ]
    }
   ],
   "source": [
    "p1 = float(3330) / 14030.\n",
    "p2 = float(3103) / 14030.\n",
    "n1 = 14030\n",
    "n2 = 14030\n",
    "print \"95%% confidence interval for a difference between proportions: [%f, %f]\" %\\\n",
    "proportions_diff_confint_ind(p1, p2, n1, n2, alpha = 0.05)\n",
    "print proportions_diff_z_test(proportions_diff_z_stat_ind(p1, p2, n1, n2))"
   ]
  },
  {
   "cell_type": "markdown",
   "metadata": {},
   "source": [
    "Как видно из результатов выше для бакалавров нельзя сказать на уровне значимости 0.05 о том, что нет связи между фактом выдачи кредита и научной степенью доктора наук. Уровень значимости 0.00126512590695"
   ]
  },
  {
   "cell_type": "markdown",
   "metadata": {},
   "source": [
    "Проверим гипотезу о равенстве долей выданных и невыданных кредитов для выпускника против двусторонней альтернативы о их неравенстве\n",
    "\n",
    "\n",
    "   | $X_1$ | $X_2$  \n",
    "  ------------- | -------------|\n",
    "  1  | 1237 | 1087 \n",
    "  0  | 3680 | 3830\n",
    "  $\\sum$ | $4917$| $4917$"
   ]
  },
  {
   "cell_type": "code",
   "execution_count": 48,
   "metadata": {
    "collapsed": false
   },
   "outputs": [
    {
     "name": "stdout",
     "output_type": "stream",
     "text": [
      "95% confidence interval for a difference between proportions: [0.013725, 0.047288]\n",
      "0.000370064482516\n"
     ]
    }
   ],
   "source": [
    "p1 = float(1237) / 4917.\n",
    "p2 = float(1087) / 4917.\n",
    "n1 = 4917\n",
    "n2 = 4917\n",
    "print \"95%% confidence interval for a difference between proportions: [%f, %f]\" %\\\n",
    "proportions_diff_confint_ind(p1, p2, n1, n2, alpha = 0.05)\n",
    "print proportions_diff_z_test(proportions_diff_z_stat_ind(p1, p2, n1, n2))"
   ]
  },
  {
   "cell_type": "markdown",
   "metadata": {},
   "source": [
    "Как видно из результатов выше для выпускников школ нельзя сказать на уровне значимости 0.05 о том, что нет связи между фактом выдачи кредита и научной степенью доктора наук. Уровень значимости 0.000370064482516"
   ]
  },
  {
   "cell_type": "markdown",
   "metadata": {},
   "source": [
    "Проверим гипотезу о равенстве долей выданных и невыданных кредитов для начального образования против двусторонней альтернативы о их неравенстве\n",
    "\n",
    "\n",
    "   | $X_1$ | $X_2$  \n",
    "  ------------- | -------------|\n",
    "  1  | 7 | 27 \n",
    "  0  | 116 | 96\n",
    "  $\\sum$ | $123$| $123$"
   ]
  },
  {
   "cell_type": "code",
   "execution_count": 50,
   "metadata": {
    "collapsed": false
   },
   "outputs": [
    {
     "name": "stdout",
     "output_type": "stream",
     "text": [
      "95% confidence interval for a difference between proportions: [-0.246429, -0.078774]\n",
      "0.000220065642082\n"
     ]
    }
   ],
   "source": [
    "p1 = float(7) / 123.\n",
    "p2 = float(27) / 123.\n",
    "n1 = 123\n",
    "n2 = 123\n",
    "print \"95%% confidence interval for a difference between proportions: [%f, %f]\" %\\\n",
    "proportions_diff_confint_ind(p1, p2, n1, n2, alpha = 0.05)\n",
    "print proportions_diff_z_test(proportions_diff_z_stat_ind(p1, p2, n1, n2))"
   ]
  },
  {
   "cell_type": "markdown",
   "metadata": {},
   "source": [
    "Как видно из результатов выше для начального образования нельзя сказать на уровне значимости 0.05 о том, что нет связи между фактом выдачи кредита и научной степенью доктора наук. Уровень значимости 0.000220065642082"
   ]
  },
  {
   "cell_type": "markdown",
   "metadata": {},
   "source": [
    "Проверим гипотезу о равенстве долей выданных и невыданных кредитов для прочего образования против двусторонней альтернативы о их неравенстве\n",
    "\n",
    "\n",
    "   | $X_1$ | $X_2$  \n",
    "  ------------- | -------------|\n",
    "  1  | 18 | 61 \n",
    "  0  | 262 | 219\n",
    "  $\\sum$ | $280$| $280$"
   ]
  },
  {
   "cell_type": "code",
   "execution_count": 52,
   "metadata": {
    "collapsed": false
   },
   "outputs": [
    {
     "name": "stdout",
     "output_type": "stream",
     "text": [
      "95% confidence interval for a difference between proportions: [-0.209812, -0.097331]\n",
      "1.78854837607e-07\n"
     ]
    }
   ],
   "source": [
    "p1 = float(18) / 280.\n",
    "p2 = float(61) / 280.\n",
    "n1 = 280\n",
    "n2 = 280\n",
    "print \"95%% confidence interval for a difference between proportions: [%f, %f]\" %\\\n",
    "proportions_diff_confint_ind(p1, p2, n1, n2, alpha = 0.05)\n",
    "print proportions_diff_z_test(proportions_diff_z_stat_ind(p1, p2, n1, n2))"
   ]
  },
  {
   "cell_type": "markdown",
   "metadata": {},
   "source": [
    "Как видно из результатов выше для прочего образования нельзя сказать на уровне значимости 0.05 о том, что нет связи между фактом выдачи кредита и научной степенью доктора наук. Уровень значимости 1.78854837607e-07"
   ]
  },
  {
   "cell_type": "markdown",
   "metadata": {},
   "source": [
    "Проверим гипотезу о равенстве долей выданных и невыданных кредитов для людей без информации об образовании против двусторонней альтернативы о их неравенстве\n",
    "\n",
    "\n",
    "   | $X_1$ | $X_2$  \n",
    "  ------------- | -------------|\n",
    "  1  | 8 | 11 \n",
    "  0  | 43 | 40\n",
    "  $\\sum$ | $51$| $51$"
   ]
  },
  {
   "cell_type": "code",
   "execution_count": 55,
   "metadata": {
    "collapsed": false
   },
   "outputs": [
    {
     "name": "stdout",
     "output_type": "stream",
     "text": [
      "95% confidence interval for a difference between proportions: [-0.209502, 0.091855]\n",
      "0.445483349334\n"
     ]
    }
   ],
   "source": [
    "p1 = float(8) / 51.\n",
    "p2 = float(11) / 51.\n",
    "n1 = 51\n",
    "n2 = 51\n",
    "print \"95%% confidence interval for a difference between proportions: [%f, %f]\" %\\\n",
    "proportions_diff_confint_ind(p1, p2, n1, n2, alpha = 0.05)\n",
    "print proportions_diff_z_test(proportions_diff_z_stat_ind(p1, p2, n1, n2))"
   ]
  },
  {
   "cell_type": "markdown",
   "metadata": {},
   "source": [
    "Как видно из результатов выше для людей без информации об образовании нельзя сказать о влиянии их образования на факт выдачи кредита. Нулевая гипотеза о равенстве долей принимается на уровне значимости 0.05. Достигаемый уровень значимости 0.445483349334."
   ]
  },
  {
   "cell_type": "markdown",
   "metadata": {},
   "source": [
    "Если исходить из доверительных интервалов, отрицательные границы говорят о том, что доля фактически невыданных кредитов меньше чем доля плановых кредитов. Самая большая разница достигается при уровне образования \"Прочее\". Положительная разница означает, что люди с соответсвующем уровнем образования реже возвращают кредит по отношению к плановым показателям. Как видно из доверительных интервалов, это люди с уровнем образования \"Выпускник школы\"."
   ]
  },
  {
   "cell_type": "markdown",
   "metadata": {},
   "source": [
    "Для корректного сравнения данных необходимо анализировать пропорции в рамках одного уровня образования. Тем самым будет достигнуто требование об одинаковом масштабе. Также возможно добором случайных элементов менее мощной выборки до мощности более мощной выборки"
   ]
  },
  {
   "cell_type": "markdown",
   "metadata": {},
   "source": [
    "# Влияние семейного положения на возврат кредита"
   ]
  },
  {
   "cell_type": "markdown",
   "metadata": {},
   "source": [
    "Ввёдем по аналогии с полом следующие 4 категории:\n",
    "\n",
    "1. В браке вернул долг\n",
    "2. В браке не вернул долг\n",
    "3. Не в браке вернул долг\n",
    "4. Не в браке не вернул долг\n",
    "5. Отказался отвечать и вернул долг\n",
    "6. Отказался отвечать и не вернул долг\n",
    "7. Нет данных и вернул долг\n",
    "8. Нет данных и не вернул долг\n",
    "\n",
    "Применим $Z$-критерий для долей в 2ух независимых выборк. Проверим гипотезу о равенстве долей вернувших и не вернувших долг в браке и не в браке против двусторонней альтернативы о их неравенстве. Проверим гипотезы о равенстве средних между всеми группами. Сравним группу в браке с группами холостые, отказались отвечать, нет данных. Сравним группу холостые с группамми отказались отвечать и нет данных. Сровним группы отказались отвечать и нет данных. Если во всех сравнениях гипотеза о равенстве долей будет принята, это говорит о том, что нет зависимости между семейным положением и фактом возврата кредита. Начнём с установления факта о наличии такой зависимости."
   ]
  },
  {
   "cell_type": "code",
   "execution_count": 14,
   "metadata": {
    "collapsed": false
   },
   "outputs": [
    {
     "name": "stdout",
     "output_type": "stream",
     "text": [
      "   ID  LIMIT_BAL  SEX  EDUCATION  MARRIAGE  AGE  PAY_0  PAY_2  PAY_3  PAY_4  \\\n",
      "0   1      20000    2          2         1   24      2      2      0      0   \n",
      "1   2     120000    2          2         2   26      0      2      0      0   \n",
      "2   3      90000    2          2         2   34      0      0      0      0   \n",
      "3   4      50000    2          2         1   37      0      0      0      0   \n",
      "4   5      50000    1          2         1   57      0      0      0      0   \n",
      "\n",
      "       ...       PAY_AMT6  default  married_plus  married_minus  \\\n",
      "0      ...              0        1             0              1   \n",
      "1      ...           2000        1             0              0   \n",
      "2      ...           5000        0             0              0   \n",
      "3      ...           1000        0             1              0   \n",
      "4      ...            679        0             1              0   \n",
      "\n",
      "   notmarried_plus  notmarried_minus  refused_plus  refused_minus  \\\n",
      "0                0                 0             0              0   \n",
      "1                0                 1             0              0   \n",
      "2                1                 0             0              0   \n",
      "3                0                 0             0              0   \n",
      "4                0                 0             0              0   \n",
      "\n",
      "   nodata_plus  nodata_minus  \n",
      "0            0             0  \n",
      "1            0             0  \n",
      "2            0             0  \n",
      "3            0             0  \n",
      "4            0             0  \n",
      "\n",
      "[5 rows x 33 columns]\n"
     ]
    }
   ],
   "source": [
    "raw_data['married_plus'] = map(lambda (x, y): 1 if ((x == 1) & (y == 0)) else 0, zip(raw_data['MARRIAGE'], raw_data['default']))\n",
    "raw_data['married_minus'] = map(lambda (x, y): 1 if ((x == 1) & (y == 1)) else 0, zip(raw_data['MARRIAGE'], raw_data['default']))\n",
    "raw_data['notmarried_plus'] = map(lambda (x, y): 1 if ((x == 2) & (y == 0)) else 0, zip(raw_data['MARRIAGE'], raw_data['default']))\n",
    "raw_data['notmarried_minus'] = map(lambda (x, y): 1 if ((x == 2) & (y == 1)) else 0, zip(raw_data['MARRIAGE'], raw_data['default']))\n",
    "raw_data['refused_plus'] = map(lambda (x, y): 1 if ((x == 0) & (y == 0)) else 0, zip(raw_data['MARRIAGE'], raw_data['default']))\n",
    "raw_data['refused_minus'] = map(lambda (x, y): 1 if ((x == 0) & (y == 1)) else 0, zip(raw_data['MARRIAGE'], raw_data['default']))\n",
    "raw_data['nodata_plus'] = map(lambda (x, y): 1 if ((x == 3) & (y == 0)) else 0, zip(raw_data['MARRIAGE'], raw_data['default']))\n",
    "raw_data['nodata_minus'] = map(lambda (x, y): 1 if ((x == 3) & (y == 1)) else 0, zip(raw_data['MARRIAGE'], raw_data['default']))\n",
    "print raw_data.head()"
   ]
  },
  {
   "cell_type": "code",
   "execution_count": 15,
   "metadata": {
    "collapsed": false
   },
   "outputs": [
    {
     "name": "stdout",
     "output_type": "stream",
     "text": [
      "      ID  LIMIT_BAL  SEX  EDUCATION  MARRIAGE  AGE  PAY_0  PAY_2  PAY_3  \\\n",
      "239  240     140000    2          2         3   41      0      0      0   \n",
      "703  704      50000    2          2         3   30      1      3      2   \n",
      "847  848      50000    1          2         3   42      2      0      0   \n",
      "896  897     110000    1          1         3   55      1      2      2   \n",
      "898  899      90000    2          3         3   51      0      0      0   \n",
      "\n",
      "     PAY_4      ...       PAY_AMT6  default  married_plus  married_minus  \\\n",
      "239      0      ...           2399        1             0              0   \n",
      "703      0      ...           1600        1             0              0   \n",
      "847      2      ...           1132        1             0              0   \n",
      "896      2      ...              0        1             0              0   \n",
      "898      0      ...            525        1             0              0   \n",
      "\n",
      "     notmarried_plus  notmarried_minus  refused_plus  refused_minus  \\\n",
      "239                0                 0             0              0   \n",
      "703                0                 0             0              0   \n",
      "847                0                 0             0              0   \n",
      "896                0                 0             0              0   \n",
      "898                0                 0             0              0   \n",
      "\n",
      "     nodata_plus  nodata_minus  \n",
      "239            0             1  \n",
      "703            0             1  \n",
      "847            0             1  \n",
      "896            0             1  \n",
      "898            0             1  \n",
      "\n",
      "[5 rows x 33 columns]\n"
     ]
    }
   ],
   "source": [
    "print raw_data[raw_data['nodata_minus'] == 1].head()"
   ]
  },
  {
   "cell_type": "code",
   "execution_count": 17,
   "metadata": {
    "collapsed": false
   },
   "outputs": [
    {
     "data": {
      "text/plain": [
       "([array([     0.,      0.,      0.,      0.,      0.,  10453.,      0.,\n",
       "              0.,      0.,      0.]),\n",
       "  array([    0.,     0.,     0.,     0.,     0.,  3206.,     0.,     0.,\n",
       "             0.,     0.]),\n",
       "  array([     0.,      0.,      0.,      0.,      0.,  12623.,      0.,\n",
       "              0.,      0.,      0.]),\n",
       "  array([    0.,     0.,     0.,     0.,     0.,  3341.,     0.,     0.,\n",
       "             0.,     0.]),\n",
       "  array([  0.,   0.,   0.,   0.,   0.,  49.,   0.,   0.,   0.,   0.]),\n",
       "  array([ 0.,  0.,  0.,  0.,  0.,  5.,  0.,  0.,  0.,  0.]),\n",
       "  array([   0.,    0.,    0.,    0.,    0.,  239.,    0.,    0.,    0.,    0.]),\n",
       "  array([  0.,   0.,   0.,   0.,   0.,  84.,   0.,   0.,   0.,   0.])],\n",
       " array([ 0.8 ,  0.84,  0.88,  0.92,  0.96,  1.  ,  1.04,  1.08,  1.12,\n",
       "         1.16,  1.2 ]),\n",
       " <a list of 8 Lists of Patches objects>)"
      ]
     },
     "execution_count": 17,
     "metadata": {},
     "output_type": "execute_result"
    },
    {
     "data": {
      "image/png": "[encoded data removed]",
      "text/plain": [
       "<matplotlib.figure.Figure at 0x104362550>"
      ]
     },
     "metadata": {},
     "output_type": "display_data"
    }
   ],
   "source": [
    "pylab.hist((raw_data[raw_data['married_plus'].values == 1]['married_plus'].values, raw_data[raw_data['married_minus'].values == 1]['married_minus'].values, raw_data[raw_data['notmarried_plus'].values == 1]['notmarried_plus'].values, raw_data[raw_data['notmarried_minus'].values == 1]['notmarried_minus'].values, raw_data[raw_data['refused_plus'].values == 1]['refused_plus'].values, raw_data[raw_data['refused_minus'].values == 1]['refused_minus'].values, raw_data[raw_data['nodata_plus'].values == 1]['nodata_plus'].values, raw_data[raw_data['nodata_minus'].values == 1]['nodata_minus'].values), label = ('married_plus', 'married_minus', 'notmarried_plus', 'notmarried_minus', 'refused_plus', 'refused_minus', 'nodata_plus', 'nodata_minus'), range = (0.8, 1.2))\n",
    "#pylab.legend()"
   ]
  },
  {
   "cell_type": "markdown",
   "metadata": {},
   "source": [
    "По гистограмме однозначно сказать о равенстве или неравенстве долей сложно. Но на первый взгляд кажется, что доли должны быть равны между собой.\n",
    "\n",
    "   | $X_1$ | $X_2$  \n",
    "  ------------- | -------------|\n",
    "  1  | a | b \n",
    "  0  | c | d \n",
    "  $\\sum$ | $n_1$| $n_2$\n",
    "  \n",
    "$$ \\hat{p}_1 = \\frac{a}{n_1}$$\n",
    "\n",
    "$$ \\hat{p}_2 = \\frac{b}{n_2}$$\n",
    "\n",
    "\n",
    "$$\\text{Доверительный интервал для }p_1 - p_2\\colon \\;\\; \\hat{p}_1 - \\hat{p}_2 \\pm z_{1-\\frac{\\alpha}{2}}\\sqrt{\\frac{\\hat{p}_1(1 - \\hat{p}_1)}{n_1} + \\frac{\\hat{p}_2(1 - \\hat{p}_2)}{n_2}}$$\n",
    "\n",
    "$$Z-статистика: Z({X_1, X_2}) =  \\frac{\\hat{p}_1 - \\hat{p}_2}{\\sqrt{P(1 - P)(\\frac{1}{n_1} + \\frac{1}{n_2})}}$$\n",
    "$$P = \\frac{\\hat{p}_1{n_1} + \\hat{p}_2{n_2}}{{n_1} + {n_2}} $$"
   ]
  },
  {
   "cell_type": "code",
   "execution_count": 28,
   "metadata": {
    "collapsed": false
   },
   "outputs": [
    {
     "name": "stdout",
     "output_type": "stream",
     "text": [
      "10453 12623 3206 3341\n",
      "13659 15964\n"
     ]
    }
   ],
   "source": [
    "# Матрица сопряжённости для сравнения групп в браке и не в браке.\n",
    "a = sum(raw_data['married_plus'].values)\n",
    "b = sum(raw_data['notmarried_plus'].values)\n",
    "c = sum(raw_data['married_minus'].values)\n",
    "d = sum(raw_data['notmarried_minus'].values)\n",
    "print a, b, c, d\n",
    "n1 = a + c\n",
    "n2 = b + d\n",
    "p1 = float(a) / n1\n",
    "p2 = float(b) / n2\n",
    "print n1, n2"
   ]
  },
  {
   "cell_type": "code",
   "execution_count": 29,
   "metadata": {
    "collapsed": false
   },
   "outputs": [
    {
     "name": "stdout",
     "output_type": "stream",
     "text": [
      "95% confidence interval for a difference between proportions: [-0.034938, -0.015929]\n"
     ]
    },
    {
     "data": {
      "text/plain": [
       "1.4485143440268189e-07"
      ]
     },
     "execution_count": 29,
     "metadata": {},
     "output_type": "execute_result"
    }
   ],
   "source": [
    "print \"95%% confidence interval for a difference between proportions: [%f, %f]\" %\\\n",
    "proportions_diff_confint_ind(p1, p2, n1, n2, alpha = 0.05)\n",
    "proportions_diff_z_test(proportions_diff_z_stat_ind(p1, p2, n1, n2))"
   ]
  },
  {
   "cell_type": "markdown",
   "metadata": {},
   "source": [
    "Нулевая гипотеза отвергается на уровне значимости 0,05. Уровень значимости: 1.4485143440268189e-07. Для оценки практической значимости поделим абсолютное значение нижней границы 95% доверительного интервала на величину $p_1$ и $p_2$"
   ]
  },
  {
   "cell_type": "code",
   "execution_count": 31,
   "metadata": {
    "collapsed": false
   },
   "outputs": [
    {
     "name": "stdout",
     "output_type": "stream",
     "text": [
      "0.0456537015211\n",
      "0.0441852358393\n"
     ]
    }
   ],
   "source": [
    "print abs(float (-0.034938) / p1)\n",
    "print abs(float (-0.034938) / p2)"
   ]
  },
  {
   "cell_type": "markdown",
   "metadata": {},
   "source": [
    "С практической точки зрения, доли не сильно различаются. В качестве меры различия предлагаю использовать это отношение."
   ]
  },
  {
   "cell_type": "markdown",
   "metadata": {},
   "source": [
    "Проверим гипотезу о равенстве долей в группах \"В браке\" и \"Отказлись отвечать\""
   ]
  },
  {
   "cell_type": "code",
   "execution_count": 32,
   "metadata": {
    "collapsed": false
   },
   "outputs": [
    {
     "name": "stdout",
     "output_type": "stream",
     "text": [
      "10453 49 3206 5\n",
      "13659 54\n"
     ]
    }
   ],
   "source": [
    "a = sum(raw_data['married_plus'].values)\n",
    "b = sum(raw_data['refused_plus'].values)\n",
    "c = sum(raw_data['married_minus'].values)\n",
    "d = sum(raw_data['refused_minus'].values)\n",
    "print a, b, c, d\n",
    "n1 = a + c\n",
    "n2 = b + d\n",
    "p1 = float(a) / n1\n",
    "p2 = float(b) / n2\n",
    "print n1, n2"
   ]
  },
  {
   "cell_type": "code",
   "execution_count": 33,
   "metadata": {
    "collapsed": false
   },
   "outputs": [
    {
     "name": "stdout",
     "output_type": "stream",
     "text": [
      "95% confidence interval for a difference between proportions: [-0.219761, -0.064488]\n"
     ]
    },
    {
     "data": {
      "text/plain": [
       "0.013838942938466214"
      ]
     },
     "execution_count": 33,
     "metadata": {},
     "output_type": "execute_result"
    }
   ],
   "source": [
    "print \"95%% confidence interval for a difference between proportions: [%f, %f]\" %\\\n",
    "proportions_diff_confint_ind(p1, p2, n1, n2, alpha = 0.05)\n",
    "proportions_diff_z_test(proportions_diff_z_stat_ind(p1, p2, n1, n2))"
   ]
  },
  {
   "cell_type": "markdown",
   "metadata": {},
   "source": [
    "Нулевая гипотеза отвергается на уровне значимости 0,05. Уровень значимости: 0.014. Для оценки практической значимости поделим абсолютное значение нижней границы 95% доверительного интервала на величину $p_1$ и $p_2$\n",
    " "
   ]
  },
  {
   "cell_type": "code",
   "execution_count": 34,
   "metadata": {
    "collapsed": false
   },
   "outputs": [
    {
     "name": "stdout",
     "output_type": "stream",
     "text": [
      "0.28716306314\n",
      "0.242185591837\n"
     ]
    }
   ],
   "source": [
    "print abs(float (-0.219761) / p1)\n",
    "print abs(float (-0.219761) / p2)"
   ]
  },
  {
   "cell_type": "markdown",
   "metadata": {},
   "source": [
    "С практической точки зрения доли различаются сильно."
   ]
  },
  {
   "cell_type": "markdown",
   "metadata": {},
   "source": [
    "Проверим гипотезу о равенстве долей в группах \"В браке\" и \"Нет данных\""
   ]
  },
  {
   "cell_type": "code",
   "execution_count": 35,
   "metadata": {
    "collapsed": false
   },
   "outputs": [
    {
     "name": "stdout",
     "output_type": "stream",
     "text": [
      "10453 239 3206 84\n",
      "13659 323\n"
     ]
    }
   ],
   "source": [
    "a = sum(raw_data['married_plus'].values)\n",
    "b = sum(raw_data['nodata_plus'].values)\n",
    "c = sum(raw_data['married_minus'].values)\n",
    "d = sum(raw_data['nodata_minus'].values)\n",
    "print a, b, c, d\n",
    "n1 = a + c\n",
    "n2 = b + d\n",
    "p1 = float(a) / n1\n",
    "p2 = float(b) / n2\n",
    "print n1, n2"
   ]
  },
  {
   "cell_type": "code",
   "execution_count": 36,
   "metadata": {
    "collapsed": false
   },
   "outputs": [
    {
     "name": "stdout",
     "output_type": "stream",
     "text": [
      "95% confidence interval for a difference between proportions: [-0.023019, 0.073709]\n"
     ]
    },
    {
     "data": {
      "text/plain": [
       "0.28853130697307661"
      ]
     },
     "execution_count": 36,
     "metadata": {},
     "output_type": "execute_result"
    }
   ],
   "source": [
    "print \"95%% confidence interval for a difference between proportions: [%f, %f]\" %\\\n",
    "proportions_diff_confint_ind(p1, p2, n1, n2, alpha = 0.05)\n",
    "proportions_diff_z_test(proportions_diff_z_stat_ind(p1, p2, n1, n2))"
   ]
  },
  {
   "cell_type": "markdown",
   "metadata": {},
   "source": [
    "Гипотезу о равенстве долей не отвергаем на уровне значимости 0,05. Уровень значимости: 0,289. Для оценки практической значимости поделим абсолютное значение верхней границы 95% доверительного интервала на величину $p_1$ и $p_2$"
   ]
  },
  {
   "cell_type": "code",
   "execution_count": 37,
   "metadata": {
    "collapsed": false
   },
   "outputs": [
    {
     "name": "stdout",
     "output_type": "stream",
     "text": [
      "0.0963160079403\n",
      "0.0996150920502\n"
     ]
    }
   ],
   "source": [
    "print abs(float (0.073709) / p1)\n",
    "print abs(float (0.073709) / p2)"
   ]
  },
  {
   "cell_type": "markdown",
   "metadata": {},
   "source": [
    "С практической точки зрения значения похожи. Но между ними почти 10% разница. "
   ]
  },
  {
   "cell_type": "markdown",
   "metadata": {},
   "source": [
    "Проверим гипотезу о равенстве долей в группах \"Не в браке\" и \"Отказлись отвечать\""
   ]
  },
  {
   "cell_type": "code",
   "execution_count": 39,
   "metadata": {
    "collapsed": false
   },
   "outputs": [
    {
     "name": "stdout",
     "output_type": "stream",
     "text": [
      "12623 49 3341 5\n",
      "15964 54\n"
     ]
    }
   ],
   "source": [
    "a = sum(raw_data['notmarried_plus'].values)\n",
    "b = sum(raw_data['refused_plus'].values)\n",
    "c = sum(raw_data['notmarried_minus'].values)\n",
    "d = sum(raw_data['refused_minus'].values)\n",
    "print a, b, c, d\n",
    "n1 = a + c\n",
    "n2 = b + d\n",
    "p1 = float(a) / n1\n",
    "p2 = float(b) / n2\n",
    "print n1, n2"
   ]
  },
  {
   "cell_type": "code",
   "execution_count": 40,
   "metadata": {
    "collapsed": false
   },
   "outputs": [
    {
     "name": "stdout",
     "output_type": "stream",
     "text": [
      "95% confidence interval for a difference between proportions: [-0.194259, -0.039123]\n"
     ]
    },
    {
     "data": {
      "text/plain": [
       "0.035219280319398472"
      ]
     },
     "execution_count": 40,
     "metadata": {},
     "output_type": "execute_result"
    }
   ],
   "source": [
    "print \"95%% confidence interval for a difference between proportions: [%f, %f]\" %\\\n",
    "proportions_diff_confint_ind(p1, p2, n1, n2, alpha = 0.05)\n",
    "proportions_diff_z_test(proportions_diff_z_stat_ind(p1, p2, n1, n2))"
   ]
  },
  {
   "cell_type": "markdown",
   "metadata": {},
   "source": [
    "Гипотезу о равенстве долей  отвергаем на уровне значимости 0,05. Уровень значимости: 0,035. Для оценки практической значимости поделим абсолютное значение нижней границы 95% доверительного интервала на величину $p_1$ и $p_2$"
   ]
  },
  {
   "cell_type": "code",
   "execution_count": 41,
   "metadata": {
    "collapsed": false
   },
   "outputs": [
    {
     "name": "stdout",
     "output_type": "stream",
     "text": [
      "0.24567461586\n",
      "0.214081346939\n"
     ]
    }
   ],
   "source": [
    "print abs(float (-0.194259) / p1)\n",
    "print abs(float (-0.194259) / p2)"
   ]
  },
  {
   "cell_type": "markdown",
   "metadata": {},
   "source": [
    "С практической точки зрения значения долей отличаются."
   ]
  },
  {
   "cell_type": "markdown",
   "metadata": {},
   "source": [
    "Проверим гипотезу о равенстве долей в группах \"Не в браке\" и \"Нет данных\""
   ]
  },
  {
   "cell_type": "code",
   "execution_count": 42,
   "metadata": {
    "collapsed": false
   },
   "outputs": [
    {
     "name": "stdout",
     "output_type": "stream",
     "text": [
      "12623 239 3341 84\n",
      "15964 323\n"
     ]
    }
   ],
   "source": [
    "a = sum(raw_data['notmarried_plus'].values)\n",
    "b = sum(raw_data['nodata_plus'].values)\n",
    "c = sum(raw_data['notmarried_minus'].values)\n",
    "d = sum(raw_data['nodata_minus'].values)\n",
    "print a, b, c, d\n",
    "n1 = a + c\n",
    "n2 = b + d\n",
    "p1 = float(a) / n1\n",
    "p2 = float(b) / n2\n",
    "print n1, n2"
   ]
  },
  {
   "cell_type": "code",
   "execution_count": 43,
   "metadata": {
    "collapsed": false
   },
   "outputs": [
    {
     "name": "stdout",
     "output_type": "stream",
     "text": [
      "95% confidence interval for a difference between proportions: [0.002525, 0.099032]\n"
     ]
    },
    {
     "data": {
      "text/plain": [
       "0.026615217118446388"
      ]
     },
     "execution_count": 43,
     "metadata": {},
     "output_type": "execute_result"
    }
   ],
   "source": [
    "print \"95%% confidence interval for a difference between proportions: [%f, %f]\" %\\\n",
    "proportions_diff_confint_ind(p1, p2, n1, n2, alpha = 0.05)\n",
    "proportions_diff_z_test(proportions_diff_z_stat_ind(p1, p2, n1, n2))"
   ]
  },
  {
   "cell_type": "markdown",
   "metadata": {},
   "source": [
    "Гипотезу о равенстве долей  отвергаем на уровне значимости 0,05. Уровень значимости: 0,035. Для оценки практической значимости поделим абсолютное значение верхней границы 95% доверительного интервала на величину $p_1$ и $p_2$"
   ]
  },
  {
   "cell_type": "code",
   "execution_count": 44,
   "metadata": {
    "collapsed": false
   },
   "outputs": [
    {
     "name": "stdout",
     "output_type": "stream",
     "text": [
      "0.125243353244\n",
      "0.133838225941\n"
     ]
    }
   ],
   "source": [
    "print abs(float (0.099032) / p1)\n",
    "print abs(float (0.099032) / p2)"
   ]
  },
  {
   "cell_type": "markdown",
   "metadata": {},
   "source": [
    "С практической точки зрения значения долей отличаются."
   ]
  },
  {
   "cell_type": "markdown",
   "metadata": {},
   "source": [
    "Проверим гипотезу о равенстве долей в группах \"Отказались отвечать\" и \"Нет данных\""
   ]
  },
  {
   "cell_type": "code",
   "execution_count": 45,
   "metadata": {
    "collapsed": false
   },
   "outputs": [
    {
     "name": "stdout",
     "output_type": "stream",
     "text": [
      "49 239 5 84\n",
      "54 323\n"
     ]
    }
   ],
   "source": [
    "a = sum(raw_data['refused_plus'].values)\n",
    "b = sum(raw_data['nodata_plus'].values)\n",
    "c = sum(raw_data['refused_minus'].values)\n",
    "d = sum(raw_data['nodata_minus'].values)\n",
    "print a, b, c, d\n",
    "n1 = a + c\n",
    "n2 = b + d\n",
    "p1 = float(a) / n1\n",
    "p2 = float(b) / n2\n",
    "print n1, n2"
   ]
  },
  {
   "cell_type": "code",
   "execution_count": 46,
   "metadata": {
    "collapsed": false
   },
   "outputs": [
    {
     "name": "stdout",
     "output_type": "stream",
     "text": [
      "95% confidence interval for a difference between proportions: [0.076554, 0.258384]\n"
     ]
    },
    {
     "data": {
      "text/plain": [
       "0.0073110440306518587"
      ]
     },
     "execution_count": 46,
     "metadata": {},
     "output_type": "execute_result"
    }
   ],
   "source": [
    "print \"95%% confidence interval for a difference between proportions: [%f, %f]\" %\\\n",
    "proportions_diff_confint_ind(p1, p2, n1, n2, alpha = 0.05)\n",
    "proportions_diff_z_test(proportions_diff_z_stat_ind(p1, p2, n1, n2))"
   ]
  },
  {
   "cell_type": "markdown",
   "metadata": {},
   "source": [
    "Гипотезу о равенстве долей  отвергаем на уровне значимости 0,05. Уровень значимости: 0,007. Для оценки практической значимости поделим абсолютное значение верхней границы 95% доверительного интервала на величину $p_1$ и $p_2$"
   ]
  },
  {
   "cell_type": "code",
   "execution_count": 47,
   "metadata": {
    "collapsed": false
   },
   "outputs": [
    {
     "name": "stdout",
     "output_type": "stream",
     "text": [
      "0.284749714286\n",
      "0.349196786611\n"
     ]
    }
   ],
   "source": [
    "print abs(float (0.258384) / p1)\n",
    "print abs(float (0.258384) / p2)"
   ]
  },
  {
   "cell_type": "markdown",
   "metadata": {},
   "source": [
    "С практической точки зрения значения долей отличаются."
   ]
  },
  {
   "cell_type": "markdown",
   "metadata": {},
   "source": [
    "# Влияние возраста на факт возврата кредита."
   ]
  },
  {
   "cell_type": "code",
   "execution_count": 5,
   "metadata": {
    "collapsed": false
   },
   "outputs": [
    {
     "data": {
      "text/plain": [
       "([array([  3.84200000e+03,   6.62100000e+03,   5.16500000e+03,\n",
       "           3.74400000e+03,   1.99000000e+03,   1.38200000e+03,\n",
       "           4.56000000e+02,   1.30000000e+02,   3.00000000e+01,\n",
       "           4.00000000e+00]),\n",
       "  array([  1.28500000e+03,   1.64000000e+03,   1.34900000e+03,\n",
       "           1.06800000e+03,   6.16000000e+02,   4.54000000e+02,\n",
       "           1.72000000e+02,   4.10000000e+01,   1.00000000e+01,\n",
       "           1.00000000e+00])],\n",
       " array([ 21. ,  26.8,  32.6,  38.4,  44.2,  50. ,  55.8,  61.6,  67.4,\n",
       "         73.2,  79. ]),\n",
       " <a list of 2 Lists of Patches objects>)"
      ]
     },
     "execution_count": 5,
     "metadata": {},
     "output_type": "execute_result"
    },
    {
     "data": {
      "image/png": "[encoded data removed]",
      "text/plain": [
       "<matplotlib.figure.Figure at 0x10409cc10>"
      ]
     },
     "metadata": {},
     "output_type": "display_data"
    }
   ],
   "source": [
    "hist((raw_data[raw_data['default'] == 0]['AGE'].values, raw_data[raw_data['default'] == 1]['AGE'].values ))"
   ]
  },
  {
   "cell_type": "markdown",
   "metadata": {},
   "source": [
    "Судя по гистограмме пропорции между возвратом и не возвратом кредита для каждой возрастной группы сохраняются. "
   ]
  },
  {
   "cell_type": "markdown",
   "metadata": {},
   "source": [
    "Проверим применимость критерия Стьюдента для сравнения средних двух независимых выборок с неизвестными СКО. СКО выборки большего объёма, должно быть не меньше чем СКО выборки меньшего объёма."
   ]
  },
  {
   "cell_type": "code",
   "execution_count": 6,
   "metadata": {
    "collapsed": false
   },
   "outputs": [
    {
     "name": "stdout",
     "output_type": "stream",
     "text": [
      "23364 6636\n",
      "-0.615547661749\n"
     ]
    }
   ],
   "source": [
    "n1 = raw_data[raw_data['default'] == 0]['AGE'].values.shape[0]\n",
    "n2 = raw_data[raw_data['default'] == 1]['AGE'].values.shape[0]\n",
    "print n1, n2\n",
    "q1 = np.std(raw_data[raw_data['default'] == 0]['AGE'].values)\n",
    "q2 = np.std(raw_data[raw_data['default'] == 1]['AGE'].values)\n",
    "print q1 - q2"
   ]
  },
  {
   "cell_type": "markdown",
   "metadata": {},
   "source": [
    "Как видно при $n_1>n_2$   $\\sigma_1 < \\sigma_2$, следовательно $T$-критерий Стьюдента не применим для сравнения средних значений суммы кредита для 2-ух групп: вернули кредит, не вернули кредит. Поэтому необходимо применить другой критерий.\n",
    "\n",
    "Применим ранговый критерий Манна - Уитни:\n",
    "\n",
    "$H_0:$ Медианы возрастов людей, вернувших и невернувших кредит совпадают\n",
    "\n",
    "$H_1:$ Медианы возрастов людей, вернувших и невернувших кредит не совпадают"
   ]
  },
  {
   "cell_type": "code",
   "execution_count": 7,
   "metadata": {
    "collapsed": false
   },
   "outputs": [
    {
     "name": "stdout",
     "output_type": "stream",
     "text": [
      "95% confidence interval for the mean: [35.300871, 35.533661]\n"
     ]
    }
   ],
   "source": [
    "print '95%% confidence interval for the mean: [%f, %f]' % zconfint(raw_data[raw_data['default'] == 0]['AGE'].values)"
   ]
  },
  {
   "cell_type": "code",
   "execution_count": 8,
   "metadata": {
    "collapsed": false
   },
   "outputs": [
    {
     "name": "stdout",
     "output_type": "stream",
     "text": [
      "95% confidence interval for the mean: [35.492515, 35.958962]\n"
     ]
    }
   ],
   "source": [
    "print '95%% confidence interval for the mean: [%f, %f]' % zconfint(raw_data[raw_data['default'] == 1]['AGE'].values)"
   ]
  },
  {
   "cell_type": "markdown",
   "metadata": {},
   "source": [
    "Как видно, 95% интервалы для средних очень похожи. Применим, критерий Манна-Уитни\n",
    "\n"
   ]
  },
  {
   "cell_type": "code",
   "execution_count": 9,
   "metadata": {
    "collapsed": false
   },
   "outputs": [
    {
     "data": {
      "text/plain": [
       "MannwhitneyuResult(statistic=76966879.5, pvalue=0.18625177174493079)"
      ]
     },
     "execution_count": 9,
     "metadata": {},
     "output_type": "execute_result"
    }
   ],
   "source": [
    "stats.mannwhitneyu(raw_data[raw_data['default'] == 0]['AGE'].values, raw_data[raw_data['default'] == 1]['AGE'].values)"
   ]
  },
  {
   "cell_type": "markdown",
   "metadata": {},
   "source": [
    "Согласно критерию Манна - Уитни распределения величин совпадают, следовательно и совпадают средние значения. "
   ]
  },
  {
   "cell_type": "markdown",
   "metadata": {},
   "source": [
    "Проверим также гипотезу о равенстве мат. ожиданий с помощью бутстрепа:\n",
    "\n",
    "$H_0: EX_1 = EX_2$\n",
    "\n",
    "$H_1: EX_1 != EX_2$"
   ]
  },
  {
   "cell_type": "code",
   "execution_count": 10,
   "metadata": {
    "collapsed": true
   },
   "outputs": [],
   "source": [
    "def get_bootstrap_samples(data, n_samples):\n",
    "    indices = np.random.randint(0, len(data), (n_samples, len(data)))\n",
    "    samples = data[indices]\n",
    "    return samples"
   ]
  },
  {
   "cell_type": "code",
   "execution_count": 11,
   "metadata": {
    "collapsed": true
   },
   "outputs": [],
   "source": [
    "def stat_intervals(stat, alpha):\n",
    "    boundaries = np.percentile(stat, [100 * alpha / 2., 100 * (1 - alpha / 2.)])\n",
    "    return boundaries"
   ]
  },
  {
   "cell_type": "code",
   "execution_count": 12,
   "metadata": {
    "collapsed": true
   },
   "outputs": [],
   "source": [
    "first_group  = raw_data[raw_data['default'] == 0]['AGE'].values\n",
    "second_group = raw_data[raw_data['default'] == 1]['AGE'].values"
   ]
  },
  {
   "cell_type": "code",
   "execution_count": 15,
   "metadata": {
    "collapsed": false
   },
   "outputs": [
    {
     "name": "stdout",
     "output_type": "stream",
     "text": [
      "95% confidence interval for the first group: [ 34.  34.]\n",
      "95% confidence interval for the second group: [ 34.  35.]\n"
     ]
    }
   ],
   "source": [
    "np.random.seed(0)\n",
    "\n",
    "first_group_scores  = map(np.median, get_bootstrap_samples(first_group, 1000))\n",
    "second_group_scores = map(np.median, get_bootstrap_samples(second_group, 1000))\n",
    "\n",
    "print \"95% confidence interval for the first group:\",  stat_intervals(first_group_scores, 0.05)\n",
    "print \"95% confidence interval for the second group:\",  stat_intervals(second_group_scores, 0.05)"
   ]
  },
  {
   "cell_type": "markdown",
   "metadata": {},
   "source": [
    "### Точечная оценка разности медиан"
   ]
  },
  {
   "cell_type": "code",
   "execution_count": 14,
   "metadata": {
    "collapsed": false
   },
   "outputs": [
    {
     "name": "stdout",
     "output_type": "stream",
     "text": [
      "Median difference is:  0.0\n"
     ]
    }
   ],
   "source": [
    "print \"Median difference is: \", np.median(first_group) - np.median(second_group)"
   ]
  },
  {
   "cell_type": "markdown",
   "metadata": {},
   "source": [
    "### Интервальная оценка разности медиан"
   ]
  },
  {
   "cell_type": "code",
   "execution_count": 19,
   "metadata": {
    "collapsed": false
   },
   "outputs": [],
   "source": [
    "delta_median_scores = map(lambda x: x[1] - x[0], zip(first_group_scores, second_group_scores))"
   ]
  },
  {
   "cell_type": "code",
   "execution_count": 21,
   "metadata": {
    "collapsed": false
   },
   "outputs": [
    {
     "name": "stdout",
     "output_type": "stream",
     "text": [
      "95% confidence interval for median difference: [ 0.  1.]\n"
     ]
    }
   ],
   "source": [
    "print \"95% confidence interval for median difference:\",  stat_intervals(delta_median_scores, 0.05)"
   ]
  },
  {
   "cell_type": "markdown",
   "metadata": {},
   "source": [
    "Даже если и есть различие в медианах, оно составляет 1 год. Поэтому с практической точки зрения разница небольшая. Поэтому в контексте задачи выделить какие-то различия будет затруднительно. Поэтому я считаю, что эти медианы совпадают."
   ]
  },
  {
   "cell_type": "code",
   "execution_count": null,
   "metadata": {
    "collapsed": true
   },
   "outputs": [],
   "source": []
  }
 ],
 "metadata": {
  "anaconda-cloud": {},
  "kernelspec": {
   "display_name": "Python 2",
   "language": "python",
   "name": "python2"
  },
  "language_info": {
   "codemirror_mode": {
    "name": "ipython",
    "version": 2
   },
   "file_extension": ".py",
   "mimetype": "text/x-python",
   "name": "python",
   "nbconvert_exporter": "python",
   "pygments_lexer": "ipython2",
   "version": "2.7.13"
  }
 },
 "nbformat": 4,
 "nbformat_minor": 1
}
