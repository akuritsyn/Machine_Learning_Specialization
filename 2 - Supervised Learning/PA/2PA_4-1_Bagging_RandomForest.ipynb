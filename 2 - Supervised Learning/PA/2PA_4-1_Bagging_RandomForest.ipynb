{
 "cells": [
  {
   "cell_type": "code",
   "execution_count": 1,
   "metadata": {
    "scrolled": true
   },
   "outputs": [
    {
     "name": "stderr",
     "output_type": "stream",
     "text": [
      "C:\\Users\\AK\\Anaconda2\\lib\\site-packages\\sklearn\\cross_validation.py:41: DeprecationWarning: This module was deprecated in version 0.18 in favor of the model_selection module into which all the refactored classes and functions are moved. Also note that the interface of the new CV iterators are different from that of this module. This module will be removed in 0.20.\n",
      "  \"This module will be removed in 0.20.\", DeprecationWarning)\n",
      "C:\\Users\\AK\\Anaconda2\\lib\\site-packages\\sklearn\\grid_search.py:42: DeprecationWarning: This module was deprecated in version 0.18 in favor of the model_selection module into which all the refactored classes and functions are moved. This module will be removed in 0.20.\n",
      "  DeprecationWarning)\n"
     ]
    }
   ],
   "source": [
    "from sklearn import cross_validation, datasets, grid_search, linear_model, metrics, tree, ensemble\n",
    "\n",
    "import numpy as np\n",
    "import pandas as pd"
   ]
  },
  {
   "cell_type": "code",
   "execution_count": 2,
   "metadata": {
    "collapsed": true
   },
   "outputs": [],
   "source": [
    "digits = datasets.load_digits()"
   ]
  },
  {
   "cell_type": "code",
   "execution_count": 9,
   "metadata": {},
   "outputs": [
    {
     "data": {
      "text/plain": [
       "(1797L, 64L)"
      ]
     },
     "execution_count": 9,
     "metadata": {},
     "output_type": "execute_result"
    }
   ],
   "source": [
    "digits.data.shape"
   ]
  },
  {
   "cell_type": "code",
   "execution_count": 3,
   "metadata": {},
   "outputs": [],
   "source": [
    "train_data, test_data, train_labels, test_labels = cross_validation.train_test_split(digits.data, digits.target, \n",
    "                                                                                     test_size = 0.3,random_state = 0)"
   ]
  },
  {
   "cell_type": "code",
   "execution_count": 4,
   "metadata": {},
   "outputs": [
    {
     "name": "stdout",
     "output_type": "stream",
     "text": [
      "0.831959668767\n"
     ]
    }
   ],
   "source": [
    "classifier=tree.DecisionTreeClassifier()\n",
    "#classifier.fit(digits.data, digits.target)\n",
    "\n",
    "cvscore=cross_validation.cross_val_score(classifier,digits.data,digits.target,cv=10) #k-fold cross validation return numpy.ndarray (k numbers)\n",
    "mscore1=cvscore.mean()\n",
    "print mscore1"
   ]
  },
  {
   "cell_type": "code",
   "execution_count": 5,
   "metadata": {
    "collapsed": true
   },
   "outputs": [],
   "source": [
    "def write_answer_1(auc):\n",
    "    with open(\"randomForrest_answer1.txt\", \"w\") as fout:\n",
    "        fout.write(str(auc))"
   ]
  },
  {
   "cell_type": "code",
   "execution_count": 7,
   "metadata": {
    "collapsed": true
   },
   "outputs": [],
   "source": [
    "write_answer_1(mscore1)"
   ]
  },
  {
   "cell_type": "code",
   "execution_count": 6,
   "metadata": {},
   "outputs": [
    {
     "name": "stdout",
     "output_type": "stream",
     "text": [
      "0.924275924891\n"
     ]
    }
   ],
   "source": [
    "cart=tree.DecisionTreeClassifier()\n",
    "classifier=ensemble.BaggingClassifier(base_estimator=cart,n_estimators=100)\n",
    "cvscore=cross_validation.cross_val_score(classifier,digits.data,digits.target,cv=10) #k-fold cross validation return numpy.ndarray (k numbers)\n",
    "mscore2=cvscore.mean()\n",
    "print mscore2\n",
    "\n",
    "def write_answer_2(auc):\n",
    "    with open(\"randomForrest_answer2.txt\", \"w\") as fout:\n",
    "        fout.write(str(auc))"
   ]
  },
  {
   "cell_type": "code",
   "execution_count": 9,
   "metadata": {
    "collapsed": true
   },
   "outputs": [],
   "source": [
    "write_answer_2(mscore2)"
   ]
  },
  {
   "cell_type": "code",
   "execution_count": 7,
   "metadata": {},
   "outputs": [
    {
     "name": "stdout",
     "output_type": "stream",
     "text": [
      "0.926590802089\n"
     ]
    }
   ],
   "source": [
    "cart=tree.DecisionTreeClassifier()\n",
    "classifier=ensemble.BaggingClassifier(base_estimator=cart,max_features=8,n_estimators=100)\n",
    "cvscore=cross_validation.cross_val_score(classifier,digits.data,digits.target,cv=10) #k-fold cross validation return numpy.ndarray (k numbers)\n",
    "mscore3=cvscore.mean()\n",
    "print mscore3\n",
    "\n",
    "def write_answer_3(auc):\n",
    "    with open(\"randomForrest_answer3.txt\", \"w\") as fout:\n",
    "        fout.write(str(auc))"
   ]
  },
  {
   "cell_type": "code",
   "execution_count": 8,
   "metadata": {
    "collapsed": true
   },
   "outputs": [],
   "source": [
    "write_answer_3(mscore3)"
   ]
  },
  {
   "cell_type": "code",
   "execution_count": 10,
   "metadata": {},
   "outputs": [
    {
     "name": "stdout",
     "output_type": "stream",
     "text": [
      "0.95110991784\n"
     ]
    }
   ],
   "source": [
    "cart=tree.DecisionTreeClassifier(max_depth=None,max_features=8)\n",
    "classifier=ensemble.BaggingClassifier(base_estimator=cart,n_estimators=100)\n",
    "cvscore=cross_validation.cross_val_score(classifier,digits.data,digits.target,cv=10) #k-fold cross validation return numpy.ndarray (k numbers)\n",
    "mscore4=cvscore.mean()\n",
    "print mscore4\n",
    "\n",
    "def write_answer_4(auc):\n",
    "    with open(\"randomForrest_answer4.txt\", \"w\") as fout:\n",
    "        fout.write(str(auc))"
   ]
  },
  {
   "cell_type": "code",
   "execution_count": 22,
   "metadata": {},
   "outputs": [],
   "source": [
    "write_answer_4(mscore4)"
   ]
  },
  {
   "cell_type": "code",
   "execution_count": 11,
   "metadata": {},
   "outputs": [
    {
     "name": "stdout",
     "output_type": "stream",
     "text": [
      "0.921038496441\n"
     ]
    }
   ],
   "source": [
    "classifier=ensemble.RandomForestClassifier()\n",
    "cvscore=cross_validation.cross_val_score(classifier,digits.data,digits.target,cv=10) #k-fold cross validation return numpy.ndarray (k numbers)\n",
    "mscore5=cvscore.mean()\n",
    "print mscore5\n",
    "\n",
    "def write_answer_5(auc):\n",
    "    with open(\"randomForrest_answer5.txt\", \"w\") as fout:\n",
    "        fout.write(str(auc))"
   ]
  },
  {
   "cell_type": "code",
   "execution_count": 12,
   "metadata": {
    "collapsed": true
   },
   "outputs": [],
   "source": [
    "write_answer_5(mscore5)"
   ]
  },
  {
   "cell_type": "code",
   "execution_count": null,
   "metadata": {
    "collapsed": true
   },
   "outputs": [],
   "source": []
  }
 ],
 "metadata": {
  "kernelspec": {
   "display_name": "Python 2",
   "language": "python",
   "name": "python2"
  },
  "language_info": {
   "codemirror_mode": {
    "name": "ipython",
    "version": 2
   },
   "file_extension": ".py",
   "mimetype": "text/x-python",
   "name": "python",
   "nbconvert_exporter": "python",
   "pygments_lexer": "ipython2",
   "version": "2.7.13"
  }
 },
 "nbformat": 4,
 "nbformat_minor": 2
}
