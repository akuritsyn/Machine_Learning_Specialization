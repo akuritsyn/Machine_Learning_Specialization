{
 "cells": [
  {
   "cell_type": "code",
   "execution_count": 260,
   "metadata": {
    "collapsed": true
   },
   "outputs": [],
   "source": [
    "import numpy as np\n",
    "import pandas as pd\n",
    "from sklearn.feature_extraction.text import CountVectorizer\n",
    "from sklearn.linear_model import LogisticRegression\n",
    "from sklearn import metrics\n",
    "from collections import Counter\n",
    "import itertools"
   ]
  },
  {
   "cell_type": "markdown",
   "metadata": {},
   "source": [
    "# Probelm #1"
   ]
  },
  {
   "cell_type": "code",
   "execution_count": 254,
   "metadata": {
    "collapsed": true
   },
   "outputs": [],
   "source": [
    "data=pd.read_csv('coursera_sessions_test.txt',';',header=None)"
   ]
  },
  {
   "cell_type": "code",
   "execution_count": 255,
   "metadata": {},
   "outputs": [
    {
     "data": {
      "text/html": [
       "<div>\n",
       "<table border=\"1\" class=\"dataframe\">\n",
       "  <thead>\n",
       "    <tr style=\"text-align: right;\">\n",
       "      <th></th>\n",
       "      <th>0</th>\n",
       "      <th>1</th>\n",
       "    </tr>\n",
       "  </thead>\n",
       "  <tbody>\n",
       "    <tr>\n",
       "      <th>0</th>\n",
       "      <td>6,7,8</td>\n",
       "      <td>NaN</td>\n",
       "    </tr>\n",
       "    <tr>\n",
       "      <th>1</th>\n",
       "      <td>13,14,15</td>\n",
       "      <td>NaN</td>\n",
       "    </tr>\n",
       "    <tr>\n",
       "      <th>2</th>\n",
       "      <td>22,23</td>\n",
       "      <td>NaN</td>\n",
       "    </tr>\n",
       "    <tr>\n",
       "      <th>3</th>\n",
       "      <td>28,29,30,31,32,33</td>\n",
       "      <td>NaN</td>\n",
       "    </tr>\n",
       "    <tr>\n",
       "      <th>4</th>\n",
       "      <td>40,41</td>\n",
       "      <td>NaN</td>\n",
       "    </tr>\n",
       "    <tr>\n",
       "      <th>5</th>\n",
       "      <td>43,44,43,45,43,45,43,46</td>\n",
       "      <td>NaN</td>\n",
       "    </tr>\n",
       "    <tr>\n",
       "      <th>6</th>\n",
       "      <td>50,51,47,52,49,53,54,55,56,57,58</td>\n",
       "      <td>NaN</td>\n",
       "    </tr>\n",
       "    <tr>\n",
       "      <th>7</th>\n",
       "      <td>63,68,69,70,66,61,59,61,66,68</td>\n",
       "      <td>66,63</td>\n",
       "    </tr>\n",
       "  </tbody>\n",
       "</table>\n",
       "</div>"
      ],
      "text/plain": [
       "                                  0      1\n",
       "0                             6,7,8    NaN\n",
       "1                          13,14,15    NaN\n",
       "2                             22,23    NaN\n",
       "3                 28,29,30,31,32,33    NaN\n",
       "4                             40,41    NaN\n",
       "5           43,44,43,45,43,45,43,46    NaN\n",
       "6  50,51,47,52,49,53,54,55,56,57,58    NaN\n",
       "7     63,68,69,70,66,61,59,61,66,68  66,63"
      ]
     },
     "execution_count": 255,
     "metadata": {},
     "output_type": "execute_result"
    }
   ],
   "source": [
    "data.head(8)"
   ]
  },
  {
   "cell_type": "code",
   "execution_count": 256,
   "metadata": {},
   "outputs": [
    {
     "name": "stdout",
     "output_type": "stream",
     "text": [
      "(50000, 2)\n",
      "13,14,15\n"
     ]
    }
   ],
   "source": [
    "print data.shape\n",
    "x1=data.iloc[1][0]\n",
    "print x1"
   ]
  },
  {
   "cell_type": "code",
   "execution_count": 257,
   "metadata": {},
   "outputs": [],
   "source": [
    "allLooks=[]\n",
    "for i in range(0,data.shape[0]):\n",
    "    allLooks.append([int(x) for x in data.iloc[i][0].split(',') if x.strip().isdigit()])"
   ]
  },
  {
   "cell_type": "code",
   "execution_count": null,
   "metadata": {},
   "outputs": [],
   "source": []
  },
  {
   "cell_type": "code",
   "execution_count": 267,
   "metadata": {},
   "outputs": [],
   "source": [
    "#allLooks"
   ]
  },
  {
   "cell_type": "code",
   "execution_count": 261,
   "metadata": {
    "collapsed": true
   },
   "outputs": [],
   "source": [
    "#xx=[[4,2,3],[3,2,4],[4,2,3],[3,2,4],[4,4,4],[2,3,2,3,5]]\n",
    "xx1=list(itertools.chain.from_iterable(allLooks))\n",
    "freq=Counter(xx1)"
   ]
  },
  {
   "cell_type": "code",
   "execution_count": 263,
   "metadata": {},
   "outputs": [],
   "source": [
    "#freq"
   ]
  },
  {
   "cell_type": "code",
   "execution_count": 270,
   "metadata": {},
   "outputs": [],
   "source": [
    "data=data.dropna()"
   ]
  },
  {
   "cell_type": "code",
   "execution_count": 272,
   "metadata": {},
   "outputs": [],
   "source": [
    "Looks=[]\n",
    "for i in range(0,data.shape[0]):\n",
    "    Looks.append([int(x) for x in data.iloc[i][0].split(',') if x.strip().isdigit()])"
   ]
  },
  {
   "cell_type": "code",
   "execution_count": 277,
   "metadata": {},
   "outputs": [],
   "source": [
    "xx=Looks\n",
    "cc1=freq\n",
    "xx2=[]\n",
    "xx3=[]\n",
    "for i in range(np.shape(xx)[0]):\n",
    "    #print i+1\n",
    "    a=sorted(set(xx[i]), key=lambda x: xx[i].index(x))\n",
    "    #print a\n",
    "    b=[]\n",
    "    for j in range(len(a)):\n",
    "        b.append([a[j],cc1[a[j]]])\n",
    "    xx2.append(b)\n",
    "    xx3.append(sorted(xx2[i], key=lambda tup: tup[1],reverse=True))\n",
    "    #print 'merged',xx2[i]\n",
    "    #print 'sorted',xx3[i]"
   ]
  },
  {
   "cell_type": "code",
   "execution_count": 284,
   "metadata": {},
   "outputs": [],
   "source": [
    "sales=xx3"
   ]
  },
  {
   "cell_type": "code",
   "execution_count": 282,
   "metadata": {
    "collapsed": true
   },
   "outputs": [],
   "source": [
    "buys=[]\n",
    "for i in range(0,data.shape[0]):\n",
    "    buys.append([int(x) for x in data.iloc[i][1].split(',') if x.strip().isdigit()])"
   ]
  },
  {
   "cell_type": "code",
   "execution_count": 286,
   "metadata": {},
   "outputs": [
    {
     "name": "stdout",
     "output_type": "stream",
     "text": [
      "p_k 1 0.506412005457\n",
      "r_k 1 0.437316041924\n",
      "p_k 5 0.207748976808\n",
      "r_k 5 0.81308679253\n"
     ]
    }
   ],
   "source": [
    "for k in [1,5]:\n",
    "    p_k=0.\n",
    "    r_k=0.\n",
    "    numberSessions=np.shape(sales)[0]\n",
    "    for i in range(numberSessions):    # loop over sessions\n",
    "        salesk=[sales[i][j][0] for j in range(np.shape(sales[i])[0])][0:k] # select first k elements for i-session\n",
    "        #print 'sales(k)',salesk\n",
    "        tmpcount=0.\n",
    "        numberPurchases=np.size(buys[i])\n",
    "        for j in range(numberPurchases): # loop over purchased products\n",
    "            if buys[i][j] in salesk:\n",
    "                tmpcount=tmpcount+1.\n",
    "        p_k=p_k+tmpcount/k\n",
    "        r_k=r_k+tmpcount/numberPurchases\n",
    "    p_k= p_k/(numberSessions)\n",
    "    r_k=r_k/(numberSessions)\n",
    "    print 'p_k',k,p_k   \n",
    "    print 'r_k',k,r_k "
   ]
  },
  {
   "cell_type": "markdown",
   "metadata": {},
   "source": [
    "# Problem #2"
   ]
  },
  {
   "cell_type": "code",
   "execution_count": 294,
   "metadata": {
    "collapsed": true
   },
   "outputs": [],
   "source": [
    "data=pd.read_csv('coursera_sessions_train.txt',';',header=None)"
   ]
  },
  {
   "cell_type": "code",
   "execution_count": 295,
   "metadata": {},
   "outputs": [
    {
     "data": {
      "text/html": [
       "<div>\n",
       "<table border=\"1\" class=\"dataframe\">\n",
       "  <thead>\n",
       "    <tr style=\"text-align: right;\">\n",
       "      <th></th>\n",
       "      <th>0</th>\n",
       "      <th>1</th>\n",
       "    </tr>\n",
       "  </thead>\n",
       "  <tbody>\n",
       "    <tr>\n",
       "      <th>0</th>\n",
       "      <td>0,1,2,3,4,5</td>\n",
       "      <td>NaN</td>\n",
       "    </tr>\n",
       "    <tr>\n",
       "      <th>1</th>\n",
       "      <td>9,10,11,9,11,12,9,11</td>\n",
       "      <td>NaN</td>\n",
       "    </tr>\n",
       "    <tr>\n",
       "      <th>2</th>\n",
       "      <td>16,17,18,19,20,21</td>\n",
       "      <td>NaN</td>\n",
       "    </tr>\n",
       "    <tr>\n",
       "      <th>3</th>\n",
       "      <td>24,25,26,27,24</td>\n",
       "      <td>NaN</td>\n",
       "    </tr>\n",
       "    <tr>\n",
       "      <th>4</th>\n",
       "      <td>34,35,36,34,37,35,36,37,38,39,38,39</td>\n",
       "      <td>NaN</td>\n",
       "    </tr>\n",
       "    <tr>\n",
       "      <th>5</th>\n",
       "      <td>42</td>\n",
       "      <td>NaN</td>\n",
       "    </tr>\n",
       "    <tr>\n",
       "      <th>6</th>\n",
       "      <td>47,48,49</td>\n",
       "      <td>NaN</td>\n",
       "    </tr>\n",
       "    <tr>\n",
       "      <th>7</th>\n",
       "      <td>59,60,61,62,60,63,64,65,66,61,67,68,67</td>\n",
       "      <td>67,60,63</td>\n",
       "    </tr>\n",
       "    <tr>\n",
       "      <th>8</th>\n",
       "      <td>71,72,73,74</td>\n",
       "      <td>NaN</td>\n",
       "    </tr>\n",
       "    <tr>\n",
       "      <th>9</th>\n",
       "      <td>76,77,78</td>\n",
       "      <td>NaN</td>\n",
       "    </tr>\n",
       "  </tbody>\n",
       "</table>\n",
       "</div>"
      ],
      "text/plain": [
       "                                        0         1\n",
       "0                             0,1,2,3,4,5       NaN\n",
       "1                    9,10,11,9,11,12,9,11       NaN\n",
       "2                       16,17,18,19,20,21       NaN\n",
       "3                          24,25,26,27,24       NaN\n",
       "4     34,35,36,34,37,35,36,37,38,39,38,39       NaN\n",
       "5                                      42       NaN\n",
       "6                                47,48,49       NaN\n",
       "7  59,60,61,62,60,63,64,65,66,61,67,68,67  67,60,63\n",
       "8                             71,72,73,74       NaN\n",
       "9                                76,77,78       NaN"
      ]
     },
     "execution_count": 295,
     "metadata": {},
     "output_type": "execute_result"
    }
   ],
   "source": [
    "data.head(10)"
   ]
  },
  {
   "cell_type": "code",
   "execution_count": 296,
   "metadata": {
    "collapsed": true
   },
   "outputs": [],
   "source": [
    "data=data.dropna()"
   ]
  },
  {
   "cell_type": "code",
   "execution_count": 297,
   "metadata": {
    "collapsed": true
   },
   "outputs": [],
   "source": [
    "Looks=[]\n",
    "for i in range(0,data.shape[0]):\n",
    "    Looks.append([int(x) for x in data.iloc[i][0].split(',') if x.strip().isdigit()])"
   ]
  },
  {
   "cell_type": "code",
   "execution_count": 298,
   "metadata": {
    "collapsed": true
   },
   "outputs": [],
   "source": [
    "xx=Looks\n",
    "cc1=freq\n",
    "xx2=[]\n",
    "xx3=[]\n",
    "for i in range(np.shape(xx)[0]):\n",
    "    #print i+1\n",
    "    a=sorted(set(xx[i]), key=lambda x: xx[i].index(x))\n",
    "    #print a\n",
    "    b=[]\n",
    "    for j in range(len(a)):\n",
    "        b.append([a[j],cc1[a[j]]])\n",
    "    xx2.append(b)\n",
    "    xx3.append(sorted(xx2[i], key=lambda tup: tup[1],reverse=True))\n",
    "    #print 'merged',xx2[i]\n",
    "    #print 'sorted',xx3[i]"
   ]
  },
  {
   "cell_type": "code",
   "execution_count": 299,
   "metadata": {
    "collapsed": true
   },
   "outputs": [],
   "source": [
    "sales=xx3"
   ]
  },
  {
   "cell_type": "code",
   "execution_count": 301,
   "metadata": {
    "collapsed": true
   },
   "outputs": [],
   "source": [
    "buys=[]\n",
    "for i in range(0,data.shape[0]):\n",
    "    buys.append([int(x) for x in data.iloc[i][1].split(',') if x.strip().isdigit()])"
   ]
  },
  {
   "cell_type": "code",
   "execution_count": 302,
   "metadata": {},
   "outputs": [
    {
     "name": "stdout",
     "output_type": "stream",
     "text": [
      "p_k 1 0.489745011086\n",
      "r_k 1 0.423054470782\n",
      "p_k 5 0.207538802661\n",
      "r_k 5 0.807815306921\n"
     ]
    }
   ],
   "source": [
    "for k in [1,5]:\n",
    "    p_k=0.\n",
    "    r_k=0.\n",
    "    numberSessions=np.shape(sales)[0]\n",
    "    for i in range(numberSessions):    # loop over sessions\n",
    "        salesk=[sales[i][j][0] for j in range(np.shape(sales[i])[0])][0:k] # select first k elements for i-session\n",
    "        #print 'sales(k)',salesk\n",
    "        tmpcount=0.\n",
    "        numberPurchases=np.size(buys[i])\n",
    "        for j in range(numberPurchases): # loop over purchased products\n",
    "            if buys[i][j] in salesk:\n",
    "                tmpcount=tmpcount+1.\n",
    "        p_k=p_k+tmpcount/k\n",
    "        r_k=r_k+tmpcount/numberPurchases\n",
    "    p_k= p_k/(numberSessions)\n",
    "    r_k=r_k/(numberSessions)\n",
    "    print 'p_k',k,p_k   \n",
    "    print 'r_k',k,r_k "
   ]
  },
  {
   "cell_type": "code",
   "execution_count": null,
   "metadata": {
    "collapsed": true
   },
   "outputs": [],
   "source": []
  },
  {
   "cell_type": "code",
   "execution_count": 246,
   "metadata": {},
   "outputs": [],
   "source": [
    "from collections import Counter\n",
    "import itertools"
   ]
  },
  {
   "cell_type": "code",
   "execution_count": 247,
   "metadata": {},
   "outputs": [],
   "source": [
    "xx=[[4,2,3],[3,2,4],[4,2,3],[3,2,4],[4,4,4],[2,3,2,3,5]]\n",
    "xx1=list(itertools.chain.from_iterable(xx))\n",
    "cc1=Counter(xx1)"
   ]
  },
  {
   "cell_type": "code",
   "execution_count": 248,
   "metadata": {},
   "outputs": [
    {
     "name": "stdout",
     "output_type": "stream",
     "text": [
      "Counter({4: 7, 2: 6, 3: 6, 5: 1})\n"
     ]
    }
   ],
   "source": [
    "print cc1"
   ]
  },
  {
   "cell_type": "code",
   "execution_count": 249,
   "metadata": {},
   "outputs": [
    {
     "name": "stdout",
     "output_type": "stream",
     "text": [
      "1\n",
      "[4, 2, 3]\n",
      "merged [[4, 7], [2, 6], [3, 6]]\n",
      "sorted [[4, 7], [2, 6], [3, 6]]\n",
      "2\n",
      "[3, 2, 4]\n",
      "merged [[3, 6], [2, 6], [4, 7]]\n",
      "sorted [[4, 7], [3, 6], [2, 6]]\n",
      "3\n",
      "[4, 2, 3]\n",
      "merged [[4, 7], [2, 6], [3, 6]]\n",
      "sorted [[4, 7], [2, 6], [3, 6]]\n",
      "4\n",
      "[3, 2, 4]\n",
      "merged [[3, 6], [2, 6], [4, 7]]\n",
      "sorted [[4, 7], [3, 6], [2, 6]]\n",
      "5\n",
      "[4]\n",
      "merged [[4, 7]]\n",
      "sorted [[4, 7]]\n",
      "6\n",
      "[2, 3, 5]\n",
      "merged [[2, 6], [3, 6], [5, 1]]\n",
      "sorted [[2, 6], [3, 6], [5, 1]]\n"
     ]
    }
   ],
   "source": [
    "xx2=[]\n",
    "xx3=[]\n",
    "for i in range(np.shape(xx)[0]):\n",
    "    print i+1\n",
    "    a=sorted(set(xx[i]), key=lambda x: xx[i].index(x))\n",
    "    print a\n",
    "    b=[]\n",
    "    for j in range(len(a)):\n",
    "        b.append([a[j],cc1[a[j]]])\n",
    "    xx2.append(b)\n",
    "    xx3.append(sorted(xx2[i], key=lambda tup: tup[1],reverse=True))\n",
    "    print 'merged',xx2[i]\n",
    "    print 'sorted',xx3[i]"
   ]
  },
  {
   "cell_type": "code",
   "execution_count": 251,
   "metadata": {},
   "outputs": [
    {
     "name": "stdout",
     "output_type": "stream",
     "text": [
      "[[[4, 7], [2, 6], [3, 6]] [[4, 7], [3, 6], [2, 6]] [[4, 7]]\n",
      " [[2, 6], [3, 6], [5, 1]]]\n",
      "[[2]\n",
      " [2]\n",
      " [1]\n",
      " [5]]\n"
     ]
    }
   ],
   "source": [
    "sales=np.array(xx3)[2:6]\n",
    "print sales\n",
    "buys=np.array([[2],[2],[1],[5]])\n",
    "print buys"
   ]
  },
  {
   "cell_type": "code",
   "execution_count": 252,
   "metadata": {},
   "outputs": [
    {
     "name": "stdout",
     "output_type": "stream",
     "text": [
      "p_k 1 0.0\n",
      "r_k 1 0.0\n",
      "p_k 2 0.125\n",
      "r_k 2 0.25\n"
     ]
    }
   ],
   "source": [
    "for k in [1,2]:\n",
    "    p_k=0.\n",
    "    r_k=0.\n",
    "    numberSessions=np.shape(sales)[0]\n",
    "    for i in range(numberSessions):    # loop over sessions\n",
    "        salesk=[sales[i][j][0] for j in range(np.shape(sales[i])[0])][0:k] # select first k elements for i-session\n",
    "        #print 'sales(k)',salesk\n",
    "        tmpcount=0.\n",
    "        numberPurchases=np.size(buys[i])\n",
    "        for j in range(numberPurchases): # loop over purchased products\n",
    "            if buys[i][j] in salesk:\n",
    "                tmpcount=tmpcount+1.\n",
    "        p_k=p_k+tmpcount/k\n",
    "        r_k=r_k+tmpcount/numberPurchases\n",
    "    p_k= p_k/(numberSessions)\n",
    "    r_k=r_k/(numberSessions)\n",
    "    print 'p_k',k,p_k   \n",
    "    print 'r_k',k,r_k "
   ]
  },
  {
   "cell_type": "code",
   "execution_count": null,
   "metadata": {},
   "outputs": [],
   "source": []
  }
 ],
 "metadata": {
  "kernelspec": {
   "display_name": "Python 2",
   "language": "python",
   "name": "python2"
  },
  "language_info": {
   "codemirror_mode": {
    "name": "ipython",
    "version": 2
   },
   "file_extension": ".py",
   "mimetype": "text/x-python",
   "name": "python",
   "nbconvert_exporter": "python",
   "pygments_lexer": "ipython2",
   "version": "2.7.13"
  }
 },
 "nbformat": 4,
 "nbformat_minor": 1
}
