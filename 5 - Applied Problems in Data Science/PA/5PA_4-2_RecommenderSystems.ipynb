{
 "cells": [
  {
   "cell_type": "code",
   "execution_count": 2,
   "metadata": {
    "collapsed": true
   },
   "outputs": [],
   "source": [
    "import numpy as np\n",
    "import pandas as pd\n",
    "from sklearn.feature_extraction.text import CountVectorizer\n",
    "from sklearn.linear_model import LogisticRegression\n",
    "from sklearn import metrics\n",
    "from collections import Counter\n",
    "import itertools"
   ]
  },
  {
   "cell_type": "markdown",
   "metadata": {},
   "source": [
    "# Probelm #3"
   ]
  },
  {
   "cell_type": "code",
   "execution_count": 3,
   "metadata": {
    "collapsed": true
   },
   "outputs": [],
   "source": [
    "data=pd.read_csv('coursera_sessions_test.txt',';',header=None)"
   ]
  },
  {
   "cell_type": "code",
   "execution_count": 6,
   "metadata": {},
   "outputs": [
    {
     "data": {
      "text/html": [
       "<div>\n",
       "<table border=\"1\" class=\"dataframe\">\n",
       "  <thead>\n",
       "    <tr style=\"text-align: right;\">\n",
       "      <th></th>\n",
       "      <th>0</th>\n",
       "      <th>1</th>\n",
       "    </tr>\n",
       "  </thead>\n",
       "  <tbody>\n",
       "    <tr>\n",
       "      <th>7</th>\n",
       "      <td>63,68,69,70,66,61,59,61,66,68</td>\n",
       "      <td>66,63</td>\n",
       "    </tr>\n",
       "    <tr>\n",
       "      <th>14</th>\n",
       "      <td>158,159,160,159,161,162</td>\n",
       "      <td>162</td>\n",
       "    </tr>\n",
       "    <tr>\n",
       "      <th>19</th>\n",
       "      <td>200,201,202,203,204</td>\n",
       "      <td>201,205</td>\n",
       "    </tr>\n",
       "    <tr>\n",
       "      <th>34</th>\n",
       "      <td>371,372,371</td>\n",
       "      <td>371,373</td>\n",
       "    </tr>\n",
       "    <tr>\n",
       "      <th>40</th>\n",
       "      <td>422</td>\n",
       "      <td>422</td>\n",
       "    </tr>\n",
       "    <tr>\n",
       "      <th>47</th>\n",
       "      <td>463,465,466,465,19,467,464,468,469,470,471,472...</td>\n",
       "      <td>462,460</td>\n",
       "    </tr>\n",
       "    <tr>\n",
       "      <th>57</th>\n",
       "      <td>543,544,545,546</td>\n",
       "      <td>543</td>\n",
       "    </tr>\n",
       "    <tr>\n",
       "      <th>94</th>\n",
       "      <td>900,894,904,894,902,904,905,906,895,894,901,89...</td>\n",
       "      <td>904</td>\n",
       "    </tr>\n",
       "  </tbody>\n",
       "</table>\n",
       "</div>"
      ],
      "text/plain": [
       "                                                    0        1\n",
       "7                       63,68,69,70,66,61,59,61,66,68    66,63\n",
       "14                            158,159,160,159,161,162      162\n",
       "19                                200,201,202,203,204  201,205\n",
       "34                                        371,372,371  371,373\n",
       "40                                                422      422\n",
       "47  463,465,466,465,19,467,464,468,469,470,471,472...  462,460\n",
       "57                                    543,544,545,546      543\n",
       "94  900,894,904,894,902,904,905,906,895,894,901,89...      904"
      ]
     },
     "execution_count": 6,
     "metadata": {},
     "output_type": "execute_result"
    }
   ],
   "source": [
    "data.head(8)"
   ]
  },
  {
   "cell_type": "code",
   "execution_count": 5,
   "metadata": {},
   "outputs": [],
   "source": [
    "data=data.dropna()"
   ]
  },
  {
   "cell_type": "code",
   "execution_count": 7,
   "metadata": {
    "collapsed": true
   },
   "outputs": [],
   "source": [
    "buys=[]\n",
    "for i in range(0,data.shape[0]):\n",
    "    buys.append([int(x) for x in data.iloc[i][1].split(',') if x.strip().isdigit()])"
   ]
  },
  {
   "cell_type": "code",
   "execution_count": 8,
   "metadata": {
    "collapsed": true
   },
   "outputs": [],
   "source": [
    "xx1=list(itertools.chain.from_iterable(buys))\n",
    "freq=Counter(xx1)"
   ]
  },
  {
   "cell_type": "code",
   "execution_count": 9,
   "metadata": {
    "collapsed": true
   },
   "outputs": [],
   "source": [
    "Looks=[]\n",
    "for i in range(0,data.shape[0]):\n",
    "    Looks.append([int(x) for x in data.iloc[i][0].split(',') if x.strip().isdigit()])"
   ]
  },
  {
   "cell_type": "code",
   "execution_count": 10,
   "metadata": {
    "collapsed": true
   },
   "outputs": [],
   "source": [
    "xx=Looks\n",
    "cc1=freq\n",
    "xx2=[]\n",
    "xx3=[]\n",
    "for i in range(np.shape(xx)[0]):\n",
    "    #print i+1\n",
    "    a=sorted(set(xx[i]), key=lambda x: xx[i].index(x))\n",
    "    #print a\n",
    "    b=[]\n",
    "    for j in range(len(a)):\n",
    "        b.append([a[j],cc1[a[j]]])\n",
    "    xx2.append(b)\n",
    "    xx3.append(sorted(xx2[i], key=lambda tup: tup[1],reverse=True))\n",
    "    #print 'merged',xx2[i]\n",
    "    #print 'sorted',xx3[i]"
   ]
  },
  {
   "cell_type": "code",
   "execution_count": 11,
   "metadata": {},
   "outputs": [],
   "source": [
    "sales=xx3"
   ]
  },
  {
   "cell_type": "code",
   "execution_count": 12,
   "metadata": {},
   "outputs": [
    {
     "name": "stdout",
     "output_type": "stream",
     "text": [
      "p_k 1 0.798362892224\n",
      "r_k 1 0.685627720392\n",
      "p_k 5 0.248622100955\n",
      "r_k 5 0.920033251112\n"
     ]
    }
   ],
   "source": [
    "for k in [1,5]:\n",
    "    p_k=0.\n",
    "    r_k=0.\n",
    "    numberSessions=np.shape(sales)[0]\n",
    "    for i in range(numberSessions):    # loop over sessions\n",
    "        salesk=[sales[i][j][0] for j in range(np.shape(sales[i])[0])][0:k] # select first k elements for i-session\n",
    "        #print 'sales(k)',salesk\n",
    "        tmpcount=0.\n",
    "        numberPurchases=np.size(buys[i])\n",
    "        for j in range(numberPurchases): # loop over purchased products\n",
    "            if buys[i][j] in salesk:\n",
    "                tmpcount=tmpcount+1.\n",
    "        p_k=p_k+tmpcount/k\n",
    "        r_k=r_k+tmpcount/numberPurchases\n",
    "    p_k= p_k/(numberSessions)\n",
    "    r_k=r_k/(numberSessions)\n",
    "    print 'p_k',k,p_k   \n",
    "    print 'r_k',k,r_k "
   ]
  },
  {
   "cell_type": "code",
   "execution_count": null,
   "metadata": {},
   "outputs": [],
   "source": []
  },
  {
   "cell_type": "markdown",
   "metadata": {},
   "source": [
    "# Problem #4"
   ]
  },
  {
   "cell_type": "code",
   "execution_count": 13,
   "metadata": {
    "collapsed": true
   },
   "outputs": [],
   "source": [
    "data=pd.read_csv('coursera_sessions_train.txt',';',header=None)"
   ]
  },
  {
   "cell_type": "code",
   "execution_count": 14,
   "metadata": {},
   "outputs": [
    {
     "data": {
      "text/html": [
       "<div>\n",
       "<table border=\"1\" class=\"dataframe\">\n",
       "  <thead>\n",
       "    <tr style=\"text-align: right;\">\n",
       "      <th></th>\n",
       "      <th>0</th>\n",
       "      <th>1</th>\n",
       "    </tr>\n",
       "  </thead>\n",
       "  <tbody>\n",
       "    <tr>\n",
       "      <th>0</th>\n",
       "      <td>0,1,2,3,4,5</td>\n",
       "      <td>NaN</td>\n",
       "    </tr>\n",
       "    <tr>\n",
       "      <th>1</th>\n",
       "      <td>9,10,11,9,11,12,9,11</td>\n",
       "      <td>NaN</td>\n",
       "    </tr>\n",
       "    <tr>\n",
       "      <th>2</th>\n",
       "      <td>16,17,18,19,20,21</td>\n",
       "      <td>NaN</td>\n",
       "    </tr>\n",
       "    <tr>\n",
       "      <th>3</th>\n",
       "      <td>24,25,26,27,24</td>\n",
       "      <td>NaN</td>\n",
       "    </tr>\n",
       "    <tr>\n",
       "      <th>4</th>\n",
       "      <td>34,35,36,34,37,35,36,37,38,39,38,39</td>\n",
       "      <td>NaN</td>\n",
       "    </tr>\n",
       "    <tr>\n",
       "      <th>5</th>\n",
       "      <td>42</td>\n",
       "      <td>NaN</td>\n",
       "    </tr>\n",
       "    <tr>\n",
       "      <th>6</th>\n",
       "      <td>47,48,49</td>\n",
       "      <td>NaN</td>\n",
       "    </tr>\n",
       "    <tr>\n",
       "      <th>7</th>\n",
       "      <td>59,60,61,62,60,63,64,65,66,61,67,68,67</td>\n",
       "      <td>67,60,63</td>\n",
       "    </tr>\n",
       "    <tr>\n",
       "      <th>8</th>\n",
       "      <td>71,72,73,74</td>\n",
       "      <td>NaN</td>\n",
       "    </tr>\n",
       "    <tr>\n",
       "      <th>9</th>\n",
       "      <td>76,77,78</td>\n",
       "      <td>NaN</td>\n",
       "    </tr>\n",
       "  </tbody>\n",
       "</table>\n",
       "</div>"
      ],
      "text/plain": [
       "                                        0         1\n",
       "0                             0,1,2,3,4,5       NaN\n",
       "1                    9,10,11,9,11,12,9,11       NaN\n",
       "2                       16,17,18,19,20,21       NaN\n",
       "3                          24,25,26,27,24       NaN\n",
       "4     34,35,36,34,37,35,36,37,38,39,38,39       NaN\n",
       "5                                      42       NaN\n",
       "6                                47,48,49       NaN\n",
       "7  59,60,61,62,60,63,64,65,66,61,67,68,67  67,60,63\n",
       "8                             71,72,73,74       NaN\n",
       "9                                76,77,78       NaN"
      ]
     },
     "execution_count": 14,
     "metadata": {},
     "output_type": "execute_result"
    }
   ],
   "source": [
    "data.head(10)"
   ]
  },
  {
   "cell_type": "code",
   "execution_count": 15,
   "metadata": {
    "collapsed": true
   },
   "outputs": [],
   "source": [
    "data=data.dropna()"
   ]
  },
  {
   "cell_type": "code",
   "execution_count": 16,
   "metadata": {
    "collapsed": true
   },
   "outputs": [],
   "source": [
    "Looks=[]\n",
    "for i in range(0,data.shape[0]):\n",
    "    Looks.append([int(x) for x in data.iloc[i][0].split(',') if x.strip().isdigit()])"
   ]
  },
  {
   "cell_type": "code",
   "execution_count": 17,
   "metadata": {
    "collapsed": true
   },
   "outputs": [],
   "source": [
    "xx=Looks\n",
    "cc1=freq\n",
    "xx2=[]\n",
    "xx3=[]\n",
    "for i in range(np.shape(xx)[0]):\n",
    "    #print i+1\n",
    "    a=sorted(set(xx[i]), key=lambda x: xx[i].index(x))\n",
    "    #print a\n",
    "    b=[]\n",
    "    for j in range(len(a)):\n",
    "        b.append([a[j],cc1[a[j]]])\n",
    "    xx2.append(b)\n",
    "    xx3.append(sorted(xx2[i], key=lambda tup: tup[1],reverse=True))\n",
    "    #print 'merged',xx2[i]\n",
    "    #print 'sorted',xx3[i]"
   ]
  },
  {
   "cell_type": "code",
   "execution_count": 18,
   "metadata": {
    "collapsed": true
   },
   "outputs": [],
   "source": [
    "sales=xx3"
   ]
  },
  {
   "cell_type": "code",
   "execution_count": 20,
   "metadata": {
    "collapsed": true
   },
   "outputs": [],
   "source": [
    "buys=[]\n",
    "for i in range(0,data.shape[0]):\n",
    "    buys.append([int(x) for x in data.iloc[i][1].split(',') if x.strip().isdigit()])"
   ]
  },
  {
   "cell_type": "code",
   "execution_count": 21,
   "metadata": {},
   "outputs": [
    {
     "name": "stdout",
     "output_type": "stream",
     "text": [
      "p_k 1 0.536862527716\n",
      "r_k 1 0.459021198683\n",
      "p_k 5 0.212084257206\n",
      "r_k 5 0.821716411053\n"
     ]
    }
   ],
   "source": [
    "for k in [1,5]:\n",
    "    p_k=0.\n",
    "    r_k=0.\n",
    "    numberSessions=np.shape(sales)[0]\n",
    "    for i in range(numberSessions):    # loop over sessions\n",
    "        salesk=[sales[i][j][0] for j in range(np.shape(sales[i])[0])][0:k] # select first k elements for i-session\n",
    "        #print 'sales(k)',salesk\n",
    "        tmpcount=0.\n",
    "        numberPurchases=np.size(buys[i])\n",
    "        for j in range(numberPurchases): # loop over purchased products\n",
    "            if buys[i][j] in salesk:\n",
    "                tmpcount=tmpcount+1.\n",
    "        p_k=p_k+tmpcount/k\n",
    "        r_k=r_k+tmpcount/numberPurchases\n",
    "    p_k= p_k/(numberSessions)\n",
    "    r_k=r_k/(numberSessions)\n",
    "    print 'p_k',k,p_k   \n",
    "    print 'r_k',k,r_k "
   ]
  },
  {
   "cell_type": "code",
   "execution_count": null,
   "metadata": {
    "collapsed": true
   },
   "outputs": [],
   "source": []
  },
  {
   "cell_type": "code",
   "execution_count": 246,
   "metadata": {},
   "outputs": [],
   "source": [
    "from collections import Counter\n",
    "import itertools"
   ]
  },
  {
   "cell_type": "code",
   "execution_count": 247,
   "metadata": {},
   "outputs": [],
   "source": [
    "xx=[[4,2,3],[3,2,4],[4,2,3],[3,2,4],[4,4,4],[2,3,2,3,5]]\n",
    "xx1=list(itertools.chain.from_iterable(xx))\n",
    "cc1=Counter(xx1)"
   ]
  },
  {
   "cell_type": "code",
   "execution_count": 248,
   "metadata": {},
   "outputs": [
    {
     "name": "stdout",
     "output_type": "stream",
     "text": [
      "Counter({4: 7, 2: 6, 3: 6, 5: 1})\n"
     ]
    }
   ],
   "source": [
    "print cc1"
   ]
  },
  {
   "cell_type": "code",
   "execution_count": 249,
   "metadata": {},
   "outputs": [
    {
     "name": "stdout",
     "output_type": "stream",
     "text": [
      "1\n",
      "[4, 2, 3]\n",
      "merged [[4, 7], [2, 6], [3, 6]]\n",
      "sorted [[4, 7], [2, 6], [3, 6]]\n",
      "2\n",
      "[3, 2, 4]\n",
      "merged [[3, 6], [2, 6], [4, 7]]\n",
      "sorted [[4, 7], [3, 6], [2, 6]]\n",
      "3\n",
      "[4, 2, 3]\n",
      "merged [[4, 7], [2, 6], [3, 6]]\n",
      "sorted [[4, 7], [2, 6], [3, 6]]\n",
      "4\n",
      "[3, 2, 4]\n",
      "merged [[3, 6], [2, 6], [4, 7]]\n",
      "sorted [[4, 7], [3, 6], [2, 6]]\n",
      "5\n",
      "[4]\n",
      "merged [[4, 7]]\n",
      "sorted [[4, 7]]\n",
      "6\n",
      "[2, 3, 5]\n",
      "merged [[2, 6], [3, 6], [5, 1]]\n",
      "sorted [[2, 6], [3, 6], [5, 1]]\n"
     ]
    }
   ],
   "source": [
    "xx2=[]\n",
    "xx3=[]\n",
    "for i in range(np.shape(xx)[0]):\n",
    "    print i+1\n",
    "    a=sorted(set(xx[i]), key=lambda x: xx[i].index(x))\n",
    "    print a\n",
    "    b=[]\n",
    "    for j in range(len(a)):\n",
    "        b.append([a[j],cc1[a[j]]])\n",
    "    xx2.append(b)\n",
    "    xx3.append(sorted(xx2[i], key=lambda tup: tup[1],reverse=True))\n",
    "    print 'merged',xx2[i]\n",
    "    print 'sorted',xx3[i]"
   ]
  },
  {
   "cell_type": "code",
   "execution_count": 251,
   "metadata": {},
   "outputs": [
    {
     "name": "stdout",
     "output_type": "stream",
     "text": [
      "[[[4, 7], [2, 6], [3, 6]] [[4, 7], [3, 6], [2, 6]] [[4, 7]]\n",
      " [[2, 6], [3, 6], [5, 1]]]\n",
      "[[2]\n",
      " [2]\n",
      " [1]\n",
      " [5]]\n"
     ]
    }
   ],
   "source": [
    "sales=np.array(xx3)[2:6]\n",
    "print sales\n",
    "buys=np.array([[2],[2],[1],[5]])\n",
    "print buys"
   ]
  },
  {
   "cell_type": "code",
   "execution_count": 252,
   "metadata": {},
   "outputs": [
    {
     "name": "stdout",
     "output_type": "stream",
     "text": [
      "p_k 1 0.0\n",
      "r_k 1 0.0\n",
      "p_k 2 0.125\n",
      "r_k 2 0.25\n"
     ]
    }
   ],
   "source": [
    "for k in [1,2]:\n",
    "    p_k=0.\n",
    "    r_k=0.\n",
    "    numberSessions=np.shape(sales)[0]\n",
    "    for i in range(numberSessions):    # loop over sessions\n",
    "        salesk=[sales[i][j][0] for j in range(np.shape(sales[i])[0])][0:k] # select first k elements for i-session\n",
    "        #print 'sales(k)',salesk\n",
    "        tmpcount=0.\n",
    "        numberPurchases=np.size(buys[i])\n",
    "        for j in range(numberPurchases): # loop over purchased products\n",
    "            if buys[i][j] in salesk:\n",
    "                tmpcount=tmpcount+1.\n",
    "        p_k=p_k+tmpcount/k\n",
    "        r_k=r_k+tmpcount/numberPurchases\n",
    "    p_k= p_k/(numberSessions)\n",
    "    r_k=r_k/(numberSessions)\n",
    "    print 'p_k',k,p_k   \n",
    "    print 'r_k',k,r_k "
   ]
  }
 ],
 "metadata": {
  "kernelspec": {
   "display_name": "Python 2",
   "language": "python",
   "name": "python2"
  },
  "language_info": {
   "codemirror_mode": {
    "name": "ipython",
    "version": 2
   },
   "file_extension": ".py",
   "mimetype": "text/x-python",
   "name": "python",
   "nbconvert_exporter": "python",
   "pygments_lexer": "ipython2",
   "version": "2.7.13"
  }
 },
 "nbformat": 4,
 "nbformat_minor": 1
}
